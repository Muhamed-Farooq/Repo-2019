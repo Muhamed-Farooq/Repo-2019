{
 "cells": [
  {
   "cell_type": "code",
   "execution_count": 1,
   "metadata": {},
   "outputs": [],
   "source": [
    "import pandas as pd\n",
    "from pathlib import Path\n",
    "import matplotlib.cm as cm\n",
    "from fastai import *\n",
    "from fastai.text import *\n",
    "from fastai.callbacks import *\n",
    "from fastai.metrics import *\n",
    "import numpy as np\n",
    "from pathlib import Path\n",
    "from typing import *\n",
    "import torch\n",
    "import torch.optim as optim\n",
    "from transformers import *\n",
    "\n",
    "class Configuracao(dict):\n",
    "    def __init__(self, **kwargs):\n",
    "        super().__init__(**kwargs)\n",
    "        for k, v in kwargs.items():\n",
    "            setattr(self, k, v)\n",
    "    \n",
    "    def set(self, key, val):\n",
    "        self[key] = val\n",
    "        setattr(self, key, val)"
   ]
  },
  {
   "cell_type": "code",
   "execution_count": null,
   "metadata": {},
   "outputs": [],
   "source": [
    "# !gsutil cp gs://dataset-uploader/bbc/bbc-text.csv ."
   ]
  },
  {
   "cell_type": "code",
   "execution_count": null,
   "metadata": {},
   "outputs": [],
   "source": [
    "torch.cuda.is_available()"
   ]
  },
  {
   "cell_type": "code",
   "execution_count": 2,
   "metadata": {},
   "outputs": [],
   "source": [
    "config = Configuracao(\n",
    "    testing=False,\n",
    "    bert_model_name=\"bert-base-uncased\",\n",
    "    max_lr=3e-5,\n",
    "    epochs=6,\n",
    "    use_fp16=True,\n",
    "    bs=32,\n",
    "    discriminative=False,\n",
    "    max_seq_len=128,\n",
    ")\n",
    "\n",
    "from pytorch_pretrained_bert import BertTokenizer\n",
    "\n",
    "bert_token = BertTokenizer.from_pretrained(\n",
    "    config.bert_model_name,\n",
    ")\n",
    "\n",
    "class FastAiBertTokenizer(BaseTokenizer):\n",
    "    def __init__(self, tokenizer: BertTokenizer, max_seq_len: int=128, **kwargs):\n",
    "        self._pretrained_tokenizer = tokenizer\n",
    "        self.max_seq_len = max_seq_len\n",
    "    def __call__(self, *args, **kwargs):\n",
    "        return self\n",
    "    def tokenizer(self, t:str) -> List[str]:\n",
    "        return [\"[CLS]\"] + self._pretrained_tokenizer.tokenize(t)[:self.max_seq_len - 2] + [\"[SEP]\"]\n",
    "\n",
    "fastai_tokenizer = Tokenizer(tok_func=FastAiBertTokenizer(bert_token, max_seq_len=config.max_seq_len), pre_rules=[], post_rules=[])\n",
    "\n",
    "fastai_bert_vocab = Vocab(list(bert_token.vocab.keys()))\n",
    "\n",
    "df_train=pd.read_csv('train.csv')\n",
    "df_train.columns\n",
    "\n",
    "from sklearn.model_selection import train_test_split\n",
    "train, val = train_test_split(df_train)\n",
    "\n",
    "databunch = TextDataBunch.from_df(\".\", train, val, \n",
    "                  tokenizer=fastai_tokenizer,\n",
    "                  vocab=fastai_bert_vocab,\n",
    "                  include_bos=False,\n",
    "                  include_eos=False,\n",
    "                  text_cols=\"comment_text\",\n",
    "                  label_cols=['toxic'],\n",
    "                  bs=config.bs,\n",
    "                  collate_fn=partial(pad_collate, pad_first=False, pad_idx=0),\n",
    "             )"
   ]
  },
  {
   "cell_type": "code",
   "execution_count": 3,
   "metadata": {},
   "outputs": [
    {
     "data": {
      "text/plain": [
       "TextClasDataBunch;\n",
       "\n",
       "Train: LabelList (119678 items)\n",
       "x: TextList\n",
       "[CLS] richard the lion ##heart and sex you seem like a fair guy , so i was wondering if you could help resolve the ti ##ff between silver ##w ##his ##tle and i on richard ' s sexuality . i think the problem is that my edit ##s make the straight theory seem big ##oted and that silver ##w ##his ##tle ' s make the gay theory seem liberal and fantastic ##al . i was thinking we could pour all our arguments into a new section marked ' sexual orientation . ' would you support this and help us ? how can we resolve this without venom ? [SEP],[CLS] \" ( ec ) wait a minute , previously it was a \" \" time zone \" \" argument , but now it ' s a \" \" likely to change at any time \" \" argument ? i ' m hoping that you are co ##gni ##sant of the fact that publications such as the world alma ##nac are printed volumes and are therefore likely to be picked up years after publication ( when information is likely to have changed ) . in such cases , a disc ##lai ##mer \" \" as of \" \" might be reasonable , but my experience in this part of w ##p is that there are a number of extremely dil ##igen ##t editors who will update information [SEP],[CLS] your right ! ' waterloo sunset ' is my favorite two [SEP],[CLS] \" no its not me . . why are you like that ? i really don ##t understand . i have no mega ##lom ##ania trying to fill in everywhere \" \" my photos \" \" , on the contrary . i had some nice photos , and i thought they would be helpful to add them in some greece related wikipedia articles . i haven ##t seen new photos lately ( related to those articles ) so i only try to help here . why are you so negative ? . . . \" [SEP],[CLS] \" just a question on the ds . how long do you think it will be until that section closes ? if the ds are approved , are they long term , and if so how long do you think they will remain . i am in favour of them , and hope they will be in place at least a year . as to bis ##hone ##n ' s concern , when i said no editing , that includes everything without exceptions . i was already staying away from the articles , and i think a wi ##ki ##break for a few weeks to get me in a better minds ##et is going to happen . but i do like bit ##co ##in , and [SEP]\n",
       "y: CategoryList\n",
       "0,0,0,0,0\n",
       "Path: .;\n",
       "\n",
       "Valid: LabelList (39893 items)\n",
       "x: TextList\n",
       "[CLS] \" secret ' s out § \" [SEP],[CLS] \" truth ##keeper , that sounds like a good idea . i ' ll see if i can look through some of those sources later on today or tomorrow . thanks ! glad to see you ' re still with us ! regards , | talk \" [SEP],[CLS] \" ok . sorry . i dunn ##o about your britain english . i just \" \" om ##g ! \" \" by so many fact tag . however , i appreciate your effort . and i ' m not a native english . so please understand me . and if you want del ##ete this section , it is ok to del ##ete this . whole del ##ete is ok . \" [SEP],[CLS] je ##ee ##zu ##s wept ! 60 % of this page is still fantasy bullshit ! if someone else doesn ' t w ##hit ##tle down this pile of crap , * i will * . seriously : what kind of idiot thinks the ' tristan chord ' has something anything to do with qu ##art ##al harmony ? this page is everything that ' s wrong with wikipedia : clue ##less , semi - liter ##ate , amateur t ##wad ##dling ##s presented as scholarship . shocking ! [SEP],[CLS] ) unfortunately , yes . wikipedia is not the place to go to make something notable . if you want somewhere to host the article you could try http : / / www . my ##wi ##ki ##bi ##z . com 18 : 49 , 3 may 2009 ( utc [SEP]\n",
       "y: CategoryList\n",
       "0,0,0,1,0\n",
       "Path: .;\n",
       "\n",
       "Test: None"
      ]
     },
     "execution_count": 3,
     "metadata": {},
     "output_type": "execute_result"
    }
   ],
   "source": [
    "databunch"
   ]
  },
  {
   "cell_type": "code",
   "execution_count": 71,
   "metadata": {},
   "outputs": [],
   "source": [
    "from pytorch_pretrained_bert.modeling import BertConfig, BertForSequenceClassification\n",
    "\n",
    "modelo = BertForSequenceClassification.from_pretrained(config.bert_model_name, num_labels=2)\n",
    "\n",
    "learn_data = Learner(\n",
    "    databunch, modelo,\n",
    "    metrics=[accuracy]\n",
    ")\n",
    "\n",
    "#learn_data.callbacks.append(ShowGraph(learner))\n",
    "\n"
   ]
  },
  {
   "cell_type": "code",
   "execution_count": 72,
   "metadata": {},
   "outputs": [
    {
     "data": {
      "text/html": [],
      "text/plain": [
       "<IPython.core.display.HTML object>"
      ]
     },
     "metadata": {},
     "output_type": "display_data"
    },
    {
     "name": "stdout",
     "output_type": "stream",
     "text": [
      "LR Finder is complete, type {learner_name}.recorder.plot() to see the graph.\n"
     ]
    }
   ],
   "source": [
    "learn_data.lr_find()"
   ]
  },
  {
   "cell_type": "code",
   "execution_count": 73,
   "metadata": {},
   "outputs": [
    {
     "name": "stdout",
     "output_type": "stream",
     "text": [
      "Min numerical gradient: 1.20E-01\n",
      "Min loss divided by 10: 3.63E-04\n"
     ]
    },
    {
     "data": {
      "image/png": "[encoded data removed]",
      "text/plain": [
       "<Figure size 432x288 with 1 Axes>"
      ]
     },
     "metadata": {
      "needs_background": "light"
     },
     "output_type": "display_data"
    }
   ],
   "source": [
    "learn_data.recorder.plot(suggestion=True)"
   ]
  },
  {
   "cell_type": "code",
   "execution_count": 74,
   "metadata": {
    "scrolled": true
   },
   "outputs": [
    {
     "data": {
      "text/html": [
       "<table border=\"1\" class=\"dataframe\">\n",
       "  <thead>\n",
       "    <tr style=\"text-align: left;\">\n",
       "      <th>epoch</th>\n",
       "      <th>train_loss</th>\n",
       "      <th>valid_loss</th>\n",
       "      <th>accuracy</th>\n",
       "      <th>time</th>\n",
       "    </tr>\n",
       "  </thead>\n",
       "  <tbody>\n",
       "    <tr>\n",
       "      <td>0</td>\n",
       "      <td>0.086279</td>\n",
       "      <td>0.080389</td>\n",
       "      <td>0.968591</td>\n",
       "      <td>10:55</td>\n",
       "    </tr>\n",
       "  </tbody>\n",
       "</table>"
      ],
      "text/plain": [
       "<IPython.core.display.HTML object>"
      ]
     },
     "metadata": {},
     "output_type": "display_data"
    }
   ],
   "source": [
    "learn_data.fit_one_cycle(1, max_lr=3e-5)"
   ]
  },
  {
   "cell_type": "code",
   "execution_count": 76,
   "metadata": {},
   "outputs": [
    {
     "data": {
      "text/html": [
       "<table border=\"1\" class=\"dataframe\">\n",
       "  <thead>\n",
       "    <tr style=\"text-align: left;\">\n",
       "      <th>epoch</th>\n",
       "      <th>train_loss</th>\n",
       "      <th>valid_loss</th>\n",
       "      <th>accuracy</th>\n",
       "      <th>time</th>\n",
       "    </tr>\n",
       "  </thead>\n",
       "  <tbody>\n",
       "    <tr>\n",
       "      <td>0</td>\n",
       "      <td>0.066012</td>\n",
       "      <td>0.089585</td>\n",
       "      <td>0.967613</td>\n",
       "      <td>13:20</td>\n",
       "    </tr>\n",
       "    <tr>\n",
       "      <td>1</td>\n",
       "      <td>0.047300</td>\n",
       "      <td>0.104047</td>\n",
       "      <td>0.967638</td>\n",
       "      <td>11:58</td>\n",
       "    </tr>\n",
       "    <tr>\n",
       "      <td>2</td>\n",
       "      <td>0.022548</td>\n",
       "      <td>0.136898</td>\n",
       "      <td>0.967488</td>\n",
       "      <td>12:29</td>\n",
       "    </tr>\n",
       "  </tbody>\n",
       "</table>"
      ],
      "text/plain": [
       "<IPython.core.display.HTML object>"
      ]
     },
     "metadata": {},
     "output_type": "display_data"
    }
   ],
   "source": [
    "learn_data.unfreeze()\n",
    "learn_data.fit_one_cycle(3, max_lr=3e-5)"
   ]
  },
  {
   "cell_type": "code",
   "execution_count": 77,
   "metadata": {},
   "outputs": [
    {
     "data": {
      "text/html": [
       "<div>\n",
       "<style scoped>\n",
       "    .dataframe tbody tr th:only-of-type {\n",
       "        vertical-align: middle;\n",
       "    }\n",
       "\n",
       "    .dataframe tbody tr th {\n",
       "        vertical-align: top;\n",
       "    }\n",
       "\n",
       "    .dataframe thead th {\n",
       "        text-align: right;\n",
       "    }\n",
       "</style>\n",
       "<table border=\"1\" class=\"dataframe\">\n",
       "  <thead>\n",
       "    <tr style=\"text-align: right;\">\n",
       "      <th>col_0</th>\n",
       "      <th>0</th>\n",
       "      <th>1</th>\n",
       "    </tr>\n",
       "    <tr>\n",
       "      <th>row_0</th>\n",
       "      <th></th>\n",
       "      <th></th>\n",
       "    </tr>\n",
       "  </thead>\n",
       "  <tbody>\n",
       "    <tr>\n",
       "      <td>0</td>\n",
       "      <td>35516</td>\n",
       "      <td>717</td>\n",
       "    </tr>\n",
       "    <tr>\n",
       "      <td>1</td>\n",
       "      <td>580</td>\n",
       "      <td>3080</td>\n",
       "    </tr>\n",
       "  </tbody>\n",
       "</table>\n",
       "</div>"
      ],
      "text/plain": [
       "col_0      0     1\n",
       "row_0             \n",
       "0      35516   717\n",
       "1        580  3080"
      ]
     },
     "execution_count": 77,
     "metadata": {},
     "output_type": "execute_result"
    }
   ],
   "source": [
    "preds, targets = learn_data.get_preds()\n",
    "predictions = np.argmax(preds, axis=1)\n",
    "pd.crosstab(predictions, targets)"
   ]
  },
  {
   "cell_type": "code",
   "execution_count": 25,
   "metadata": {},
   "outputs": [],
   "source": [
    "data_lm = TextLMDataBunch.from_csv('/home/rubensvectomobile_gmail_com/', 'train.csv', min_freq=1)\n"
   ]
  },
  {
   "cell_type": "code",
   "execution_count": 16,
   "metadata": {},
   "outputs": [
    {
     "data": {
      "text/html": [
       "<table border=\"1\" class=\"dataframe\">\n",
       "  <thead>\n",
       "    <tr style=\"text-align: right;\">\n",
       "      <th>idx</th>\n",
       "      <th>text</th>\n",
       "    </tr>\n",
       "  </thead>\n",
       "  <tbody>\n",
       "    <tr>\n",
       "      <td>0</td>\n",
       "      <td>\" this hollow arb enforcement request \" \" xxmaj you did ? xxmaj let me see . xxmaj on 17:35 , 23 xxmaj december 2010 that xxup ae was first mentioned on xxup an / xxup i. xxmaj on 18:28 , 23 xxmaj december 2010 you blocked me after on 18:21 , 23 xxmaj december 2010 you made this edit ? xxmaj so when you read the xxup ae report</td>\n",
       "    </tr>\n",
       "    <tr>\n",
       "      <td>1</td>\n",
       "      <td>otherwise . xxmaj of course , an article can report objectively about such things , as long as an attempt is made to describe the topic from a neutral point of view . \" \" xxmaj even if you view what i did outside xxmaj osteen 's church as self promoting , it is reported in an objective manner . xxmaj further , this account is not the original author</td>\n",
       "    </tr>\n",
       "    <tr>\n",
       "      <td>2</td>\n",
       "      <td>email . xxmaj thus it is not a copyright violation . 16:21 , 5 xxmaj dec 2003 ( xxup utc ) xxbos \" \\n \\n  xxmaj why xxmaj are xxmaj there xxmaj no xxmaj failure xxmaj examples xxmaj for xxmaj rating xxmaj methods ? \\n \\n  xxmaj the article now reads ( in \" \" xxmaj criticism of xxup iia \" \" ) ... \\n \\n  \"</td>\n",
       "    </tr>\n",
       "    <tr>\n",
       "      <td>3</td>\n",
       "      <td>in talk : cult you say that the checklists must go because they are unscientific , though they are clearly mentioned as disputed and attributed to the anti - cult movement . xxmaj the one by xxmaj lifton is referenced . i support replacement of the other checklist by the one by xxmaj eileen xxmaj barker . 12:45 , 3 xxmaj oct 2004 ( xxup utc ) \\n  xxmaj</td>\n",
       "    </tr>\n",
       "    <tr>\n",
       "      <td>4</td>\n",
       "      <td>own dubious actions . xxmaj this is n't appreciated , nor is attempting to call my edits \" \" vandalism , \" \" when it was you who was trying to cover your erroneous tracks . xxmaj but that 's all i have to say about it . xxmaj better luck next time . - \" xxbos xxmaj if that 's the case , should we have a section on</td>\n",
       "    </tr>\n",
       "  </tbody>\n",
       "</table>"
      ],
      "text/plain": [
       "<IPython.core.display.HTML object>"
      ]
     },
     "metadata": {},
     "output_type": "display_data"
    }
   ],
   "source": [
    "data_lm.show_batch()"
   ]
  },
  {
   "cell_type": "code",
   "execution_count": 17,
   "metadata": {},
   "outputs": [],
   "source": [
    "learn = language_model_learner(data_lm, AWD_LSTM, drop_mult=0.7)"
   ]
  },
  {
   "cell_type": "code",
   "execution_count": 18,
   "metadata": {},
   "outputs": [
    {
     "data": {
      "text/plain": [
       "[AWD_LSTM(\n",
       "   (encoder): Embedding(60000, 400, padding_idx=1)\n",
       "   (encoder_dp): EmbeddingDropout(\n",
       "     (emb): Embedding(60000, 400, padding_idx=1)\n",
       "   )\n",
       "   (rnns): ModuleList(\n",
       "     (0): WeightDropout(\n",
       "       (module): LSTM(400, 1152, batch_first=True)\n",
       "     )\n",
       "     (1): WeightDropout(\n",
       "       (module): LSTM(1152, 1152, batch_first=True)\n",
       "     )\n",
       "     (2): WeightDropout(\n",
       "       (module): LSTM(1152, 400, batch_first=True)\n",
       "     )\n",
       "   )\n",
       "   (input_dp): RNNDropout()\n",
       "   (hidden_dps): ModuleList(\n",
       "     (0): RNNDropout()\n",
       "     (1): RNNDropout()\n",
       "     (2): RNNDropout()\n",
       "   )\n",
       " ), LinearDecoder(\n",
       "   (decoder): Linear(in_features=400, out_features=60000, bias=True)\n",
       "   (output_dp): RNNDropout()\n",
       " )]"
      ]
     },
     "execution_count": 18,
     "metadata": {},
     "output_type": "execute_result"
    }
   ],
   "source": [
    "list(learn.model.children())"
   ]
  },
  {
   "cell_type": "code",
   "execution_count": 19,
   "metadata": {},
   "outputs": [
    {
     "data": {
      "text/html": [],
      "text/plain": [
       "<IPython.core.display.HTML object>"
      ]
     },
     "metadata": {},
     "output_type": "display_data"
    },
    {
     "name": "stdout",
     "output_type": "stream",
     "text": [
      "LR Finder is complete, type {learner_name}.recorder.plot() to see the graph.\n"
     ]
    },
    {
     "data": {
      "image/png": "[encoded data removed]",
      "text/plain": [
       "<Figure size 432x288 with 1 Axes>"
      ]
     },
     "metadata": {
      "needs_background": "light"
     },
     "output_type": "display_data"
    }
   ],
   "source": [
    "learn.lr_find(start_lr=1e-8, end_lr=1e2)\n",
    "learn.recorder.plot()"
   ]
  },
  {
   "cell_type": "code",
   "execution_count": 20,
   "metadata": {},
   "outputs": [
    {
     "data": {
      "text/html": [
       "<table border=\"1\" class=\"dataframe\">\n",
       "  <thead>\n",
       "    <tr style=\"text-align: left;\">\n",
       "      <th>epoch</th>\n",
       "      <th>train_loss</th>\n",
       "      <th>valid_loss</th>\n",
       "      <th>accuracy</th>\n",
       "      <th>time</th>\n",
       "    </tr>\n",
       "  </thead>\n",
       "  <tbody>\n",
       "    <tr>\n",
       "      <td>0</td>\n",
       "      <td>4.286595</td>\n",
       "      <td>3.882025</td>\n",
       "      <td>0.319007</td>\n",
       "      <td>06:14</td>\n",
       "    </tr>\n",
       "  </tbody>\n",
       "</table>"
      ],
      "text/plain": [
       "<IPython.core.display.HTML object>"
      ]
     },
     "metadata": {},
     "output_type": "display_data"
    }
   ],
   "source": [
    "learn.fit_one_cycle(cyc_len=1, max_lr=1e-2, moms=(0.8, 0.7))\n"
   ]
  },
  {
   "cell_type": "code",
   "execution_count": 21,
   "metadata": {},
   "outputs": [
    {
     "data": {
      "text/html": [
       "<table border=\"1\" class=\"dataframe\">\n",
       "  <thead>\n",
       "    <tr style=\"text-align: left;\">\n",
       "      <th>epoch</th>\n",
       "      <th>train_loss</th>\n",
       "      <th>valid_loss</th>\n",
       "      <th>accuracy</th>\n",
       "      <th>time</th>\n",
       "    </tr>\n",
       "  </thead>\n",
       "  <tbody>\n",
       "    <tr>\n",
       "      <td>0</td>\n",
       "      <td>3.899805</td>\n",
       "      <td>3.696402</td>\n",
       "      <td>0.342041</td>\n",
       "      <td>07:00</td>\n",
       "    </tr>\n",
       "    <tr>\n",
       "      <td>1</td>\n",
       "      <td>3.812038</td>\n",
       "      <td>3.612134</td>\n",
       "      <td>0.354422</td>\n",
       "      <td>07:02</td>\n",
       "    </tr>\n",
       "    <tr>\n",
       "      <td>2</td>\n",
       "      <td>3.677744</td>\n",
       "      <td>3.589998</td>\n",
       "      <td>0.357040</td>\n",
       "      <td>07:00</td>\n",
       "    </tr>\n",
       "  </tbody>\n",
       "</table>"
      ],
      "text/plain": [
       "<IPython.core.display.HTML object>"
      ]
     },
     "metadata": {},
     "output_type": "display_data"
    }
   ],
   "source": [
    "learn.unfreeze()\n",
    "learn.fit_one_cycle(3, slice(2e-3/100, 2e-3))"
   ]
  },
  {
   "cell_type": "code",
   "execution_count": 22,
   "metadata": {},
   "outputs": [],
   "source": [
    "learn.save_encoder('ft_enc_balanced')"
   ]
  },
  {
   "cell_type": "code",
   "execution_count": 52,
   "metadata": {},
   "outputs": [],
   "source": [
    "data_clas = TextClasDataBunch.from_csv('/home/rubensvectomobile_gmail_com/', 'bbc-text.csv',vocab=data_lm.train_ds.vocab,\n",
    "                                       min_freq=1, bs=32)\n",
    "\n",
    "data_clas.save('train_ulmfit_balanced_TextClas')"
   ]
  },
  {
   "cell_type": "code",
   "execution_count": 53,
   "metadata": {},
   "outputs": [
    {
     "data": {
      "text/html": [
       "<table border=\"1\" class=\"dataframe\">\n",
       "  <thead>\n",
       "    <tr style=\"text-align: right;\">\n",
       "      <th>text</th>\n",
       "      <th>target</th>\n",
       "    </tr>\n",
       "  </thead>\n",
       "  <tbody>\n",
       "    <tr>\n",
       "      <td>xxbos terror powers expose tyranny the lord chancellor has defended government plans to introduce control orders to keep foreign and british terrorist suspects under house arrest where there isn t enough evidence to put them on trial . lord xxunk insists that the proposals do not equate to a police state and strike a balance between protecting the public against the threat of terrorism and upholding civil liberties . but</td>\n",
       "      <td>politics</td>\n",
       "    </tr>\n",
       "    <tr>\n",
       "      <td>xxbos losing yourself in online gaming online role playing games are time - consuming but xxunk flights from reality . but are some people taking their fantasy lives too seriously when video game world of warcraft hit the shops in europe last week fans wrote in to the bbc website to express their delight - and to offer a warning . an addiction to a game like this is far</td>\n",
       "      <td>tech</td>\n",
       "    </tr>\n",
       "    <tr>\n",
       "      <td>xxbos xxunk launches veritas party ex - bbc chat show host and east midlands xxunk robert xxunk - silk said he wanted to change the face of british politics as he launched his new party . mr xxunk - silk who recently quit the uk independence party said our country was being stolen from us by mass immigration . he told a london news conference that veritas - latin for</td>\n",
       "      <td>politics</td>\n",
       "    </tr>\n",
       "    <tr>\n",
       "      <td>xxbos roundabout continues nostalgia trip the new big - screen version of the magic roundabout released in the uk on friday is the latest attempt to turn children s television into box - office gold . recent years have seen a less - than - successful adaptation of the 1960s puppet show xxunk and a moderately successful version of e xxunk s five children and it previously filmed by the</td>\n",
       "      <td>entertainment</td>\n",
       "    </tr>\n",
       "    <tr>\n",
       "      <td>xxbos brits debate over urban music joss stone a 17-year - old soul singer from devon beat xxunk rascal xxunk xxunk and the streets to win best british urban act at the brit awards . her victory has xxunk the debate about what urban music is . i m not really comfortable with the word urban . it s a word that s been manufactured in this country and america</td>\n",
       "      <td>entertainment</td>\n",
       "    </tr>\n",
       "  </tbody>\n",
       "</table>"
      ],
      "text/plain": [
       "<IPython.core.display.HTML object>"
      ]
     },
     "metadata": {},
     "output_type": "display_data"
    }
   ],
   "source": [
    "data_clas.show_batch()"
   ]
  },
  {
   "cell_type": "code",
   "execution_count": 54,
   "metadata": {},
   "outputs": [],
   "source": [
    "learn = text_classifier_learner(data_clas,AWD_LSTM, drop_mult=0.7)\n",
    "learn.load_encoder('ft_enc_balanced')\n",
    "learn.freeze()"
   ]
  },
  {
   "cell_type": "code",
   "execution_count": 55,
   "metadata": {},
   "outputs": [],
   "source": [
    "learn.metrics = [accuracy, FBeta('macro')]"
   ]
  },
  {
   "cell_type": "code",
   "execution_count": 56,
   "metadata": {},
   "outputs": [
    {
     "data": {
      "text/html": [],
      "text/plain": [
       "<IPython.core.display.HTML object>"
      ]
     },
     "metadata": {},
     "output_type": "display_data"
    },
    {
     "name": "stdout",
     "output_type": "stream",
     "text": [
      "LR Finder is complete, type {learner_name}.recorder.plot() to see the graph.\n"
     ]
    }
   ],
   "source": [
    "learn.lr_find(start_lr=1e-8, end_lr=1e2)"
   ]
  },
  {
   "cell_type": "code",
   "execution_count": 57,
   "metadata": {},
   "outputs": [
    {
     "name": "stdout",
     "output_type": "stream",
     "text": [
      "Min numerical gradient: 3.16E-02\n",
      "Min loss divided by 10: 2.51E-02\n"
     ]
    },
    {
     "data": {
      "image/png": "[encoded data removed]",
      "text/plain": [
       "<Figure size 432x288 with 1 Axes>"
      ]
     },
     "metadata": {
      "needs_background": "light"
     },
     "output_type": "display_data"
    }
   ],
   "source": [
    "learn.recorder.plot(suggestion=True)"
   ]
  },
  {
   "cell_type": "code",
   "execution_count": 58,
   "metadata": {},
   "outputs": [],
   "source": [
    "min_grad_lr = learn.recorder.min_grad_lr"
   ]
  },
  {
   "cell_type": "code",
   "execution_count": 59,
   "metadata": {},
   "outputs": [
    {
     "data": {
      "text/html": [
       "<table border=\"1\" class=\"dataframe\">\n",
       "  <thead>\n",
       "    <tr style=\"text-align: left;\">\n",
       "      <th>epoch</th>\n",
       "      <th>train_loss</th>\n",
       "      <th>valid_loss</th>\n",
       "      <th>accuracy</th>\n",
       "      <th>f_beta</th>\n",
       "      <th>time</th>\n",
       "    </tr>\n",
       "  </thead>\n",
       "  <tbody>\n",
       "    <tr>\n",
       "      <td>0</td>\n",
       "      <td>1.227184</td>\n",
       "      <td>1.008177</td>\n",
       "      <td>0.614350</td>\n",
       "      <td>0.552226</td>\n",
       "      <td>00:14</td>\n",
       "    </tr>\n",
       "  </tbody>\n",
       "</table>"
      ],
      "text/plain": [
       "<IPython.core.display.HTML object>"
      ]
     },
     "metadata": {},
     "output_type": "display_data"
    }
   ],
   "source": [
    "learn.fit_one_cycle(cyc_len=1, max_lr=min_grad_lr, moms=(0.8, 0.7))"
   ]
  },
  {
   "cell_type": "code",
   "execution_count": 60,
   "metadata": {},
   "outputs": [
    {
     "data": {
      "text/html": [
       "<table border=\"1\" class=\"dataframe\">\n",
       "  <thead>\n",
       "    <tr style=\"text-align: left;\">\n",
       "      <th>epoch</th>\n",
       "      <th>train_loss</th>\n",
       "      <th>valid_loss</th>\n",
       "      <th>accuracy</th>\n",
       "      <th>f_beta</th>\n",
       "      <th>time</th>\n",
       "    </tr>\n",
       "  </thead>\n",
       "  <tbody>\n",
       "    <tr>\n",
       "      <td>0</td>\n",
       "      <td>0.982380</td>\n",
       "      <td>0.666612</td>\n",
       "      <td>0.757848</td>\n",
       "      <td>0.736139</td>\n",
       "      <td>00:20</td>\n",
       "    </tr>\n",
       "  </tbody>\n",
       "</table>"
      ],
      "text/plain": [
       "<IPython.core.display.HTML object>"
      ]
     },
     "metadata": {},
     "output_type": "display_data"
    }
   ],
   "source": [
    "learn.freeze_to(-3)\n",
    "learn.fit_one_cycle(1, slice(1e-5,5e-3), moms=(0.8,0.7))"
   ]
  },
  {
   "cell_type": "code",
   "execution_count": 61,
   "metadata": {},
   "outputs": [
    {
     "data": {
      "text/html": [
       "<table border=\"1\" class=\"dataframe\">\n",
       "  <thead>\n",
       "    <tr style=\"text-align: left;\">\n",
       "      <th>epoch</th>\n",
       "      <th>train_loss</th>\n",
       "      <th>valid_loss</th>\n",
       "      <th>accuracy</th>\n",
       "      <th>f_beta</th>\n",
       "      <th>time</th>\n",
       "    </tr>\n",
       "  </thead>\n",
       "  <tbody>\n",
       "    <tr>\n",
       "      <td>0</td>\n",
       "      <td>0.782098</td>\n",
       "      <td>0.539322</td>\n",
       "      <td>0.822870</td>\n",
       "      <td>0.808464</td>\n",
       "      <td>00:25</td>\n",
       "    </tr>\n",
       "    <tr>\n",
       "      <td>1</td>\n",
       "      <td>0.693203</td>\n",
       "      <td>0.537543</td>\n",
       "      <td>0.807175</td>\n",
       "      <td>0.806033</td>\n",
       "      <td>00:24</td>\n",
       "    </tr>\n",
       "    <tr>\n",
       "      <td>2</td>\n",
       "      <td>0.576277</td>\n",
       "      <td>0.370055</td>\n",
       "      <td>0.887892</td>\n",
       "      <td>0.880457</td>\n",
       "      <td>00:22</td>\n",
       "    </tr>\n",
       "    <tr>\n",
       "      <td>3</td>\n",
       "      <td>0.415098</td>\n",
       "      <td>0.271367</td>\n",
       "      <td>0.905830</td>\n",
       "      <td>0.903096</td>\n",
       "      <td>00:24</td>\n",
       "    </tr>\n",
       "    <tr>\n",
       "      <td>4</td>\n",
       "      <td>0.328964</td>\n",
       "      <td>0.230496</td>\n",
       "      <td>0.934978</td>\n",
       "      <td>0.928605</td>\n",
       "      <td>00:23</td>\n",
       "    </tr>\n",
       "    <tr>\n",
       "      <td>5</td>\n",
       "      <td>0.240137</td>\n",
       "      <td>0.210326</td>\n",
       "      <td>0.928251</td>\n",
       "      <td>0.924620</td>\n",
       "      <td>00:22</td>\n",
       "    </tr>\n",
       "    <tr>\n",
       "      <td>6</td>\n",
       "      <td>0.167227</td>\n",
       "      <td>0.207149</td>\n",
       "      <td>0.939462</td>\n",
       "      <td>0.934458</td>\n",
       "      <td>00:23</td>\n",
       "    </tr>\n",
       "    <tr>\n",
       "      <td>7</td>\n",
       "      <td>0.165354</td>\n",
       "      <td>0.204513</td>\n",
       "      <td>0.930493</td>\n",
       "      <td>0.927110</td>\n",
       "      <td>00:22</td>\n",
       "    </tr>\n",
       "  </tbody>\n",
       "</table>"
      ],
      "text/plain": [
       "<IPython.core.display.HTML object>"
      ]
     },
     "metadata": {},
     "output_type": "display_data"
    }
   ],
   "source": [
    "learn.unfreeze()\n",
    "learn.fit_one_cycle(8, slice(1e-4,1e-2), moms=(0.8,0.7))"
   ]
  },
  {
   "cell_type": "code",
   "execution_count": 66,
   "metadata": {},
   "outputs": [],
   "source": [
    "learn.save(\"trained_ulmfit\")"
   ]
  },
  {
   "cell_type": "code",
   "execution_count": 67,
   "metadata": {},
   "outputs": [],
   "source": [
    "learn = text_classifier_learner(data_clas, AWD_LSTM, drop_mult=0.7)"
   ]
  },
  {
   "cell_type": "code",
   "execution_count": 68,
   "metadata": {},
   "outputs": [
    {
     "data": {
      "text/plain": [
       "RNNLearner(data=TextClasDataBunch;\n",
       "\n",
       "Train: LabelList (1779 items)\n",
       "x: TextList\n",
       "xxbos rolling out next generation s net the body that oversees how the net works grows and evolves says it has xxunk well with its growth in the last 10 years but it is just the start . in a sense we have hardly started in reaching the whole population the new chair of the internet engineering task force ( xxunk ) brian carpenter says . the xxunk ensures the smooth running and organisation of the net s architecture . with broadband take - up growing services like voice and tv will open up interesting challenges for the net . i think voip ( voice - over internet protocol allowing phone calls to be made over the net ) is very important - it challenges all the old cost models of xxunk says dr carpenter . second it challenges more deeply the business model that you have to be a service provider with a lot of infrastructure . with voip you need very little infrastructure . a distinguished ibm engineer dr carpenter spent 20 years at xxunk the european laboratory for particle physics . as the new chair of the xxunk his next big challenge is overseeing ipv6 the next generation standard for information transfer and routing across the web . at xxunk dr carpenter helped pioneer advanced net applications during the development of the world wide web so he is well - placed to take on such a task . the net s growth and evolution depend on standards and protocols and ensuring the architecture works and talks to other standards is a crucial job of the xxunk . the top priority is to ensure that the standards that make the net work are open and free for anyone to use and work with . the net is built on a protocol called tcp / ip which means transmission control protocol and internet protocol . when computers communicate with the net a unique ip address is used to send and receive information . the xxunk is a large international community of network designers operators vendors and researchers working on the evolution of the net s architecture and the way this information is sent and received . they make sure it all xxunk together leaving no gaps . we ve seen some interesting effects over last few years explains dr carpenter . the net was growing at a fantastic rate at the end of the 90s . then there was a bit of a glitch in 2000 . we are now seeing a very clear phase of consolidation and renewed growth . that renewed growth is also being xxunk by emerging economies like china which are showing fast uptake of broadband net and other technologies . the number of broadband subscribers via dsl ( digital subscriber line ) doubled in a year to 13 million according to figures released at the end of 2004 . the challenges we face are about continuing to produce standards to allow for that growth rate explained dr carpenter . given it [ the net ] was designed for the whole community it has done well to reach millions . if you want to reach the whole population you have to make sure it can scale up . ipv6 the standard that will replace the existing xxunk will allow for billions more addresses on the net and it is gradually being worked into network infrastructure across the world . the actual number of addresses with xxunk is limited to four billion ip addresses . that clearly is not enough when you have 10 billion people to serve so there is technical solution the new version of ip - ipv6 . it has much larger address space possibilities with no practical limits said dr carpenter . standards are vital to something as complex as the net and making sure standards are open and can work with across networks is a big task . the difference this next generation standard ipv6 will make to the average net user is almost invisible . our first goal is that it [ ipv6 ] should make no difference - people should not notice a difference . it is like when the london telephone numbers got longer . a lot of the process will be invisible . people are usually given an ip address without knowing it . technically deployment has started and the standards for are just about settled said dr carpenter . the one problem with the net that may never disappear completely is security . to dr carpenter the solution comes out of technological and human behaviour . people have to be educated about sensible behaviour he says such as ignoring e - mails that claim you have won something . i don t think it is going to get worse . people will remain concerned about security and they probably should do - just as you would be concerned walking along a dark street . we have to do work to make sure there are better security internet standards . it is a never - ending battle in a sense . but he adds : even if security has improved you still worry a bit . unfortunately it is just part of life . we have a duty to do what we can .,xxbos south bank awards honour hit soap coronation street has become the first soap to triumph at the south bank show awards which traditionally reward xxunk and groundbreaking culture . the soap beat fellow xxunk show filthy love and channel 4 s shameless to win the best tv drama prize on thursday . little britain was named best comedy while franz ferdinand beat morrissey and the xxunk to the music award . shane meadows dead man s shoes picked up the best film award beating shaun of the dead and my summer of love . the two award ceremonies reflect the achievements the industry believes have been made in the last year . in 2004 coronation street pulled away from its bbc one rival eastenders in the ratings and dominated other tv awards . last year the south bank award for best tv drama went to steven xxunk s period piece the lost prince while bloody sunday about the 1972 killings in northern ireland won in 2003 . in other south bank categories little britain s second series beat xxunk night and the green wing to the comedy trophy while alan bennett s the history boys won in the theatre category . author david mitchell made up for losing out in the booker prize to alan xxunk by beating him to the literary award with his book cloud atlas . shameless state of play and xxunk off creator paul abbott got a lifetime achievement award while former grange hill actress xxunk xxunk won the breakthrough award for writing and directing her first film a way of life .,xxbos oscar nominee dan o xxunk dies irish actor dan o xxunk who was nominated for best actor at the 1955 oscars has died at the age of 85 . o xxunk whose oscar nomination was for luis xxunk s the adventures of robinson xxunk died at his home in malibu california a spokesman said . the actor began his film career in the 1940s playing xxunk to orson welles macbeth in 1948 and was also a regular in on the dublin stage . he later appeared in robocop and its sequel and cult tv show twin peaks . he played the ceo of xxunk consumer products in 1987 s robocop and robocop 2 three years later and was saw mill owner andrew packard in twin peaks also in 1990 . despite his oscar nomination he had few other lead roles and became a familiar supporting actor on tv and in film . the year he was nominated the academy award was won by marlon brando for on the xxunk .,xxbos xxunk shake up as profit slips anglo - dutch consumer goods giant xxunk is to merge its two management boards after reporting unsatisfactory earnings for 2004 . it blamed the poor results on sluggish decision making a rise in discounted retailers and a wet european summer . the company also cited difficult trading conditions and a lack of demand for goods such as its xxunk range . xxunk which owns brands including dove soap said annual pre - tax profit fell 36 % to xxunk euros ( £ xxunk ) . shares fell 1 % to xxunk xxunk in london and dropped by 1.2 % to xxunk euros in amsterdam . under the restructuring plans patrick xxunk the uk - based co - chairman will become group chief executive . dutch co - chairman antony xxunk will take on the role of non - executive chairman . we have recognised the need for greater clarity of leadership and we are moving to a simpler leadership structure that will provide a sharper operational focus mr xxunk said . we are leaving behind one of the key features of xxunk s governance but this is a natural development following the changes introduced last year . the company which has had dual headquarters in rotterdam and london since 1930 will announce the location of its head office at a later date . xxunk is not alone in trying to simplify its business . oil giant shell last year dismantled its dual - ownership structure after a series of problems relating to the size of its oil reserves that hammered its share price and led to the resignation of key board members . the best part of the news this morning was that the company announced a structure simplification said xxunk xxunk an analyst at xxunk . the company said the organizational changes would speed decision making and it also may make further changes . the company said its main focus will be on improving profits and it is planning to accelerate and increase investment in its 400 main brands . while it is certainly the case that markets have been tougher in the past eighteen months than we had expected we have also lost some market share said mr xxunk . we let a range of targets limit our ability flexibility and did not adjust our plans quickly enough to a more difficult business environment . our objective is to reverse the share loss that we experienced in some markets in 2004 and return to growth . xxunk said european sales fell 2.8 % last year dragged down by below part sales at its beverage division where revenues dipped by almost 4 % . sales of ice cream and frozen food dipped by 3.4 % in the us last year revenue grew by 1.5 % despite disappointing sales in xxunk the company said . in asia leading products came under attack from rivals such as xxunk & gamble . xxunk took a xxunk euro one - time charge in the fourth quarter including a 650 m euro write - down on xxunk diet foods . sales of xxunk products have been hit in recent years by the popularity of the atkins diet . but looking ahead xxunk said it was optimistic about prospects for its xxunk products saying that demand is on the xxunk for rival low - xxunk diets . the company also said it planned to spend 500 m euros this year buying back shares .,xxbos rivals of the £ 400 apple ... the mac mini is the cheapest apple computer ever . but though it is cheap for a mac how does it compare to pcs that cost about the same amount xxunk tries to find out if you can you get more for your money if you stick with the beige box . an extremely small computer that is designed to bring the macintosh to the masses . apple offer a less powerful mac mini for £ 339 but the £ 399 models has a xxunk power pc chip 80 xxunk hard drive combined cd burner / dvd player . it comes equipped with usb and xxunk ports for peripheral connections ethernet port for broadband a port for standard video output and an audio / xxunk xxunk machine comes with mac os x the apple operating system the software suite xxunk which includes itunes xxunk xxunk xxunk and xxunk . a monitor keyboard or mouse . there is also no built - in support for wireless technology or any speakers . the lack of a dvd burner is an omission in the age of backing - up important software . wireless and a dvd burner can be added at extra cost . apple are targeting people who already have a main computer and want to upgrade - especially pc users who have used an apple ipod . compact and xxunk the mac mini would not look out of place in any home . apple computers are famously user friendly and offer much better network security which means fewer viruses . the package of software that comes with the machine is the best money can buy . the mac mini is just a box . if you don t already have a monitor etc adding them to the package sees the value for money begin to xxunk . macs don t offer the upgrade flexibility of a pc and the machine s specifications lack the horse power for tasks such as high - end video editing or games . the mac mini puts the macintosh within the reach of everyone an apple spokesman said . it will bring more customers to the platform especially pc users and owners . an entry - level machine designed for basic home use . a xxunk intel xxunk chip 40 xxunk hard drive 256 mb combined cd burner / dvd player . it comes equipped with a 17 inch monitor keyboard and mouse . the machine has 6 usb ports and an ethernet port for broadband connection . there s also a port for standard video output . the machine comes with windows xp home edition . it provides basic home tools such as a media player and word processor . a dvd burner or any wireless components built in . wireless and a dvd burner can be added at extra cost . homes and small offices including those looking to add a low cost second computer . cost is the clear advantage . the dell provides enough power and software for basic gaming and internet surfing . it s easily xxunk so a bigger hard drive better sound and graphics cards can be added . the dell is hardly xxunk and the hard drive is on the small size for anyone wanting to store photos or a decent sized digital music collection . this machine is for small businesses and for people who want a second computer for basic home use perhaps in a kids bedroom a spokesman for dell said . i think we offer better value once you realise all the extras needed for the mac mini . a desktop computer that pc pro magazine dubbed best performer in a group test of machines that cost only £ 399 ( £ xxunk including vat ) . a good basic pc that according to pc pro has superb upgrade potential . for your money you get a xxunk amd xxunk processor 512 mb of ram 120 gb hard drive dvd writer xxunk monitor mouse keyboard and windows xxunk much more than the basics . it can not handle 3d graphics and has no xxunk slots . those on a limited budget who want a machine they can add to and improve as their cash allows . it s cheap and has plenty of room to improve but that could end up making it expensive in the long run . it s a good basic xxunk . it s not pretty and has a monitor rather than a flat - panel display . some of the upgrades offered by xxunk to the basic model are xxunk . you might find that you want to chop and change quite quickly . nick ross deputy labs editor at pc pro said the important point about buying a cheap and cheerful pc is the upgrade path . interest has switched from processor power to graphics and sound cards as that s what makes the difference in games . even manufacturers are not going to be marketing machines as faster he said they ll emphasise the different features . a computer built from bits you buy and put together yourself . a surprisingly good pc sporting an amd xxunk xp 2500 processor 512 megabytes ram a graphics card with 128 ram on board plus tv out a 40 gb hard drive cd - writer and dvd player windows xp home . anything else . you re building it so you have to buy all the software you want to install and do your own trouble - shooting and tech support . building your own machine is easier than it used to be but you need to read specifications carefully to make sure all parts work together . experienced and keen pc users . building your own pc or upgrading the one you have is a great way to improve your understanding of how it all works . it s cheap you can specify exactly what you want and you get the thrill of putting it together yourself . and a bigger thrill if everything works as it should . once it s built you won t be able to do much with it until you start buying software for it . if it starts to go wrong it might take a lot of fixing . as gavin cox of the excellent xxunk website put it : it will be tough to obtain / build a pc to ever be as compact and charming as the mac mini . performance - wise it s not cutting edge and is barely entry - level by today s market but up against the mac mini i believe it will hold its own and even pull a few more tricks says gavin cox . the good news is that the machine is eminently expandable . by contrast says mr cox the mac mini is almost xxunk .\n",
       "y: CategoryList\n",
       "tech,entertainment,entertainment,business,tech\n",
       "Path: /home/rubensvectomobile_gmail_com;\n",
       "\n",
       "Valid: LabelList (446 items)\n",
       "x: TextList\n",
       "xxbos xxunk impressed by xxunk form olympic xxunk champion carolina xxunk was full of admiration for britain s kelly xxunk as the pair prepared to clash in birmingham . both will be in action on friday in the 60 m hurdles and long jump ahead of the european indoor championships later this month in madrid . xxunk finished third behind the swede in athens and xxunk said : i knew about her she s a great girl . she looked very good early in the season and was competing really well . xxunk showed impressive early - season form on tuesday in stockholm s ge xxunk meeting winning the sprint hurdles the long jump and the 400 m . xxunk has also displayed promise with a new high jump personal best in sheffield at the combined norwich union european trials and aaa championships and a second place in the long jump behind jade johnson .,xxbos ban on hunting comes into force fox hunting with dogs is now illegal in england and wales after a ban on the activity came into force overnight . the law faces a stiff test this weekend with the countryside alliance saying many hunts will be out in force . chief police officers spokesman nigel yeo said he expected most people would obey the law - by drag hunting or chasing foxes then shooting them . he said police would challenge the one of two isolated hunts which are threatening to break the law . but simon hart of the countryside alliance has questioned how police will ensure there are no violations . the definitions of legal and illegal hunting are so blurred that the police are being asked to make impossible judgements . you can hunt a rat but not a mouse a rabbit but not a hare an artificial scent but not a real one he said . the attorney general lord goldsmith has so far issued no instructions to police on how they should deal with hunters who violate the law . he said he will consult the director of public prosecutions and the police in the near future to decide what measures to take with regards to hunting prosecutions . he has rejected a blanket policy of not enforcing the ban until the house of lords has considered its legality . john cooper a barrister and chairman of the league against cruel sports said the anti - hunting lobby expects the authorities to prosecute wherever there is clear evidence of illegal hunting practices . he said police had acknowledged their duty to investigate allegations of hunting offences . the xxunk hunt had one pack out on thursday and has promised a hunt this weekend . under the new law hunters have a number of legal options available to them . as well as being able to mount a hunt for an artificial scent it will still be legal for the hunts to flush out foxes as long as they shoot their xxunk rather than set the hounds on them . we are not going away . we will keep these hounds going we will keep this community going and in the end we will come back and hunt when hunting is legal again hunt master captain ian xxunk said . but tony banks labour mp for west ham said the issue would soon disappear and that people in a few years time will be wondering what it was all about . he said had the government not xxunk since 1997 in introducing the ban hunting with dogs would have passed into history like other former country pursuits such as otter hunting and badger baiting . let the election decide this because the conservatives have made clear that if they get elected into government they will restore hunting he said .,xxbos vera drake s bafta triumph hope at the bafta film awards on saturday night there is the prospect that a home - grown movie could walk off with a clutch of trophies . vera drake mike leigh s tale about a 1950s backstreet xxunk is nominated in 11 categories . these include best film best director and best actress xxunk for imelda staunton who plays the eponymous character . the film has spent months being lauded with prizes from the venice film festival to five awards from the london critics circle on wednesday night . the xxunk has a tradition of xxunk british cinema and this year vera drake is the obvious candidate to be heaped with praise . empire magazine s reviews editor dan jolin said the film had a very good chance of doing well on saturday predicting that it would collect five or six awards . i don t think it s going to do a lord of the rings - style sweep but imelda staunton is a shoo - in for best actress he said . a best director prize for mike leigh and best british film are also likely and it could steal some awards from heavily - nominated competitors the aviator and finding xxunk . mr jolin tipped another contender - most likely the aviator - to walk away with the bafta for best film and added that finding xxunk had been xxunk with nominations but not trophies . strong oscar contenders million dollar baby and sideways did not figure in the bafta nominations giving vera drake greater potential to walk away with the big prizes . there is a sense that this film is ours and we should slap our own guys on the back . out of all the films in the running for the xxunk vera drake is the true blue british one . if mike leigh is going to win awards for anything it should be vera drake at this year s xxunk said mr jolin adding that the film was probably his most technically accomplished and lavish work yet . mr jolin also tipped phil davis for a best supporting actor prize for his role in vera drake but felt that heather xxunk could be xxunk by kate winslet or natalie portman in the supporting actress category . if there is anywhere where this film is going to win it will be at the xxunk he said . the guardian s film critic peter bradshaw felt that there might well be a sweep of awards for vera drake on saturday night . i hope that bafta voters will respond to the extremely high standard of acting from the whole cast of the film . if bafta can t do so what hope is there he said . mr bradshaw felt that mike leigh s masterpiece was entitled to the best film award - leaving dead man s shoes harry potter and the prisoner of xxunk my summer of love and shaun of the dead to slug it out for the best british film trophy . i will be cheering if vera drake wins a whole host of awards he added .,xxbos commons hunt protest charges eight protesters who xxunk the house of commons chamber during a debate on the hunting bill have been charged with disorderly conduct . the men were arrested in september after bursting into the chamber causing a hunting ban debate to be halted . those charged included otis ferry the 22-year - old son of rock star bryan ferry and luke xxunk 27 a close friend of princes william and harry . they were charged under section 5 of the public order act police said . five of the eight men held an xxunk news conference outside charing cross police station on monday evening after the charges were formerly put to them . the men s solicitor matthew knight said that at no time had it occurred to the men that they were committing a criminal offence . there is no offence of xxunk in the house of commons - it is not a criminal offence he said . if parliament wanted to make entering the house of commons chamber on foot a criminal offence it should have done so but it can t do so retrospectively . we are not prosecuted for that . we are prosecuted for a public order act offence . we are not guilty of it . they will appear at bow street magistrates court on 21 december a police spokesman said . otis ferry a former eton pupil and joint leader of the south shropshire hunt said : i have no regrets . we have done nothing wrong beyond the obvious which was to stand up for our rights and not act like a sheep like the rest of the country . one of the men david redvers 34 from xxunk gloucestershire said he and the other seven protesters would plead not guilty to the charges . the other protesters are john xxunk 37 a xxunk from xxunk xxunk robert xxunk 34 who plays polo with princes charles in team xxunk xxunk andrew elliot 42 from xxunk near xxunk point - to - point jockey richard xxunk 34 from york and former royal chef nick wood 41 . the 15 september protest came on the same day as a huge pro - hunting demonstration in parliament square . four of the men ran out from behind the speaker s chair while another wrestled past a doorkeeper from a different entrance . the five tried to confront mps before they were bundled out of the chamber and later led away xxunk by police . three others had been intercepted by security staff as they tried to join the five in the chamber . speaker michael martin later said the men had used a forged letter to gain access to the house of commons and had been helped to get close to the chamber by a parliamentary pass holder . in november the use of the parliament act meant a total ban on hunting with dogs in england and wales . however many pro - hunt activists remained defiant after the law was passed saying they would ignore the ban and continue to hunt . last week the countryside alliance said more than 250 hunts would meet legally the day after the ban on hunting with dogs comes into force . the alliance said the 19 february meets would show the new law was impossibly difficult to determine and open to different interpretations .,xxbos profile : david xxunk before he resigned the position of home secretary on wednesday david xxunk had been in charge of a substantial body of government portfolios including race policing and immigration . his responsibilities in running the home office included civil emergencies security terrorism and expenditure . named home secretary after the 2001 general election mr xxunk had seen the focus on his office intensify . the attacks on the world trade center on 11 september 2001 heightened concern for security and immigration in particular . a labour loyalist from a working class background mr xxunk 57 had been unafraid of pushing for tough changes to labour policy . recently the issue of identity cards had provoked controversy with questions raised over cost and invasions of civil liberties . mr xxunk was also at the centre of a humiliating scandal involving the former immigration minister beverly hughes . having received his full backing ms hughes was forced to resign in april over abuses in the visa processing system which she claimed to be unaware of . mr xxunk s own comments on immigration had prompted censure - he told refugees from afghanistan and kosovo to get back home to start rebuilding their countries . and he also urged people from ethnic minorities to develop a sense of belonging in britain telling them to speak english at home . avoiding political correctness is second nature to the former home secretary who xxunk a metropolitan elite and airy fairy libertarians and earlier in the year coined the phrase liberati as an amalgam of xxunk and liberal . yet in january of this year he xxunk further controversy over his seemingly liberal reclassification of cannabis from a grade b to grade c status drug . before the recent furore mr xxunk had always appeared more interested in politics than his personal life . mr xxunk told the daily telegraph in 2001 that he continued to wear his wedding ring in spite of being a xxunk as a useful way of ensuring that people don t casually think i am available . he added : i am not available because i am just getting on with the job . mr xxunk entered parliament for sheffield xxunk in 1987 after first contesting the sheffield xxunk seat in 1974 . he is one of very few blind mps and was the first to reach the front bench and the cabinet . his relaxed performances - with his guide dog by his side - at the xxunk box in the labour party s national executive and on the conference platform made it easy to forget his disability . mr xxunk himself described not being able to see as simply an inconvenience . using braille for speeches and briefed by his officials on tape he also has a sharp tongue at times and a pragmatic approach to politics . mr xxunk was schooled in sheffield where he led the city council for seven years before entering the commons . he xxunk the labour party nationally and was a unifying force in the 80s and 90s shadowing health and education . in tony blair s first government mr xxunk was put in charge of education and employment where he won big increases in funds for schools while insisting on improved standards of literacy and xxunk . he was prepared to stand up to the teaching unions - which sometimes xxunk his speeches - and his policy of charging university students for tuition fees was not popular . in the labour party he has been regarded as a loyal colleague a xxunk who avoids factions and a man whose humour and determination make him widely popular . there have been wry smiles as well . in 1999 his then guide dog lucy threw up in the chamber during the speech of his tory opponent . lucy was replaced by her half - sister sadie a black labrador - curly - coated retriever cross in 2003 after nearly a decade by mr xxunk s side .\n",
       "y: CategoryList\n",
       "sport,politics,entertainment,politics,politics\n",
       "Path: /home/rubensvectomobile_gmail_com;\n",
       "\n",
       "Test: None, model=SequentialRNN(\n",
       "  (0): MultiBatchEncoder(\n",
       "    (module): AWD_LSTM(\n",
       "      (encoder): Embedding(60000, 400, padding_idx=1)\n",
       "      (encoder_dp): EmbeddingDropout(\n",
       "        (emb): Embedding(60000, 400, padding_idx=1)\n",
       "      )\n",
       "      (rnns): ModuleList(\n",
       "        (0): WeightDropout(\n",
       "          (module): LSTM(400, 1152, batch_first=True)\n",
       "        )\n",
       "        (1): WeightDropout(\n",
       "          (module): LSTM(1152, 1152, batch_first=True)\n",
       "        )\n",
       "        (2): WeightDropout(\n",
       "          (module): LSTM(1152, 400, batch_first=True)\n",
       "        )\n",
       "      )\n",
       "      (input_dp): RNNDropout()\n",
       "      (hidden_dps): ModuleList(\n",
       "        (0): RNNDropout()\n",
       "        (1): RNNDropout()\n",
       "        (2): RNNDropout()\n",
       "      )\n",
       "    )\n",
       "  )\n",
       "  (1): PoolingLinearClassifier(\n",
       "    (layers): Sequential(\n",
       "      (0): BatchNorm1d(1200, eps=1e-05, momentum=0.1, affine=True, track_running_stats=True)\n",
       "      (1): Dropout(p=0.27999999999999997, inplace=False)\n",
       "      (2): Linear(in_features=1200, out_features=50, bias=True)\n",
       "      (3): ReLU(inplace=True)\n",
       "      (4): BatchNorm1d(50, eps=1e-05, momentum=0.1, affine=True, track_running_stats=True)\n",
       "      (5): Dropout(p=0.1, inplace=False)\n",
       "      (6): Linear(in_features=50, out_features=5, bias=True)\n",
       "    )\n",
       "  )\n",
       "), opt_func=functools.partial(<class 'torch.optim.adam.Adam'>, betas=(0.9, 0.99)), loss_func=FlattenedLoss of CrossEntropyLoss(), metrics=[<function accuracy at 0x7f52f02303b0>], true_wd=True, bn_wd=True, wd=0.01, train_bn=True, path=PosixPath('/home/rubensvectomobile_gmail_com'), model_dir='models', callback_fns=[functools.partial(<class 'fastai.basic_train.Recorder'>, add_time=True, silent=False)], callbacks=[RNNTrainer\n",
       "learn: ...\n",
       "alpha: 2.0\n",
       "beta: 1.0], layer_groups=[Sequential(\n",
       "  (0): Embedding(60000, 400, padding_idx=1)\n",
       "  (1): EmbeddingDropout(\n",
       "    (emb): Embedding(60000, 400, padding_idx=1)\n",
       "  )\n",
       "), Sequential(\n",
       "  (0): WeightDropout(\n",
       "    (module): LSTM(400, 1152, batch_first=True)\n",
       "  )\n",
       "  (1): RNNDropout()\n",
       "), Sequential(\n",
       "  (0): WeightDropout(\n",
       "    (module): LSTM(1152, 1152, batch_first=True)\n",
       "  )\n",
       "  (1): RNNDropout()\n",
       "), Sequential(\n",
       "  (0): WeightDropout(\n",
       "    (module): LSTM(1152, 400, batch_first=True)\n",
       "  )\n",
       "  (1): RNNDropout()\n",
       "), Sequential(\n",
       "  (0): PoolingLinearClassifier(\n",
       "    (layers): Sequential(\n",
       "      (0): BatchNorm1d(1200, eps=1e-05, momentum=0.1, affine=True, track_running_stats=True)\n",
       "      (1): Dropout(p=0.27999999999999997, inplace=False)\n",
       "      (2): Linear(in_features=1200, out_features=50, bias=True)\n",
       "      (3): ReLU(inplace=True)\n",
       "      (4): BatchNorm1d(50, eps=1e-05, momentum=0.1, affine=True, track_running_stats=True)\n",
       "      (5): Dropout(p=0.1, inplace=False)\n",
       "      (6): Linear(in_features=50, out_features=5, bias=True)\n",
       "    )\n",
       "  )\n",
       ")], add_time=True, silent=False)"
      ]
     },
     "execution_count": 68,
     "metadata": {},
     "output_type": "execute_result"
    }
   ],
   "source": [
    "learn.load('trained_ulmfit')"
   ]
  },
  {
   "cell_type": "code",
   "execution_count": 69,
   "metadata": {},
   "outputs": [
    {
     "data": {
      "text/html": [
       "<div>\n",
       "<style scoped>\n",
       "    .dataframe tbody tr th:only-of-type {\n",
       "        vertical-align: middle;\n",
       "    }\n",
       "\n",
       "    .dataframe tbody tr th {\n",
       "        vertical-align: top;\n",
       "    }\n",
       "\n",
       "    .dataframe thead th {\n",
       "        text-align: right;\n",
       "    }\n",
       "</style>\n",
       "<table border=\"1\" class=\"dataframe\">\n",
       "  <thead>\n",
       "    <tr style=\"text-align: right;\">\n",
       "      <th>col_0</th>\n",
       "      <th>0</th>\n",
       "      <th>1</th>\n",
       "      <th>2</th>\n",
       "      <th>3</th>\n",
       "      <th>4</th>\n",
       "    </tr>\n",
       "    <tr>\n",
       "      <th>row_0</th>\n",
       "      <th></th>\n",
       "      <th></th>\n",
       "      <th></th>\n",
       "      <th></th>\n",
       "      <th></th>\n",
       "    </tr>\n",
       "  </thead>\n",
       "  <tbody>\n",
       "    <tr>\n",
       "      <td>0</td>\n",
       "      <td>95</td>\n",
       "      <td>2</td>\n",
       "      <td>3</td>\n",
       "      <td>0</td>\n",
       "      <td>5</td>\n",
       "    </tr>\n",
       "    <tr>\n",
       "      <td>1</td>\n",
       "      <td>0</td>\n",
       "      <td>63</td>\n",
       "      <td>1</td>\n",
       "      <td>0</td>\n",
       "      <td>1</td>\n",
       "    </tr>\n",
       "    <tr>\n",
       "      <td>2</td>\n",
       "      <td>7</td>\n",
       "      <td>5</td>\n",
       "      <td>72</td>\n",
       "      <td>1</td>\n",
       "      <td>0</td>\n",
       "    </tr>\n",
       "    <tr>\n",
       "      <td>3</td>\n",
       "      <td>1</td>\n",
       "      <td>2</td>\n",
       "      <td>0</td>\n",
       "      <td>106</td>\n",
       "      <td>0</td>\n",
       "    </tr>\n",
       "    <tr>\n",
       "      <td>4</td>\n",
       "      <td>2</td>\n",
       "      <td>1</td>\n",
       "      <td>0</td>\n",
       "      <td>0</td>\n",
       "      <td>79</td>\n",
       "    </tr>\n",
       "  </tbody>\n",
       "</table>\n",
       "</div>"
      ],
      "text/plain": [
       "col_0   0   1   2    3   4\n",
       "row_0                     \n",
       "0      95   2   3    0   5\n",
       "1       0  63   1    0   1\n",
       "2       7   5  72    1   0\n",
       "3       1   2   0  106   0\n",
       "4       2   1   0    0  79"
      ]
     },
     "execution_count": 69,
     "metadata": {},
     "output_type": "execute_result"
    }
   ],
   "source": [
    "preds, targets = learn.get_preds()\n",
    "predictions = np.argmax(preds, axis=1)\n",
    "pd.crosstab(predictions, targets)"
   ]
  },
  {
   "cell_type": "code",
   "execution_count": null,
   "metadata": {},
   "outputs": [],
   "source": []
  }
 ],
 "metadata": {
  "kernelspec": {
   "display_name": "Python 3",
   "language": "python",
   "name": "python3"
  },
  "language_info": {
   "codemirror_mode": {
    "name": "ipython",
    "version": 3
   },
   "file_extension": ".py",
   "mimetype": "text/x-python",
   "name": "python",
   "nbconvert_exporter": "python",
   "pygments_lexer": "ipython3",
   "version": "3.7.4"
  }
 },
 "nbformat": 4,
 "nbformat_minor": 2
}
