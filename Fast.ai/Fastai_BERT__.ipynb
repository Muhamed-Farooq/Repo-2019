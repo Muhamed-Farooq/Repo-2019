{
 "cells": [
  {
   "cell_type": "code",
   "execution_count": 42,
   "metadata": {},
   "outputs": [],
   "source": [
    "import pandas as pd\n",
    "from pathlib import Path\n",
    "import matplotlib.cm as cm\n",
    "from fastai import *\n",
    "from fastai.text import *\n",
    "from fastai.callbacks import *\n",
    "from fastai.metrics import *\n",
    "import numpy as np\n",
    "from pathlib import Path\n",
    "from typing import *\n",
    "import torch\n",
    "import torch.optim as optim\n",
    "from transformers import *\n",
    "\n",
    "class Configuracao(dict):\n",
    "    def __init__(self, **kwargs):\n",
    "        super().__init__(**kwargs)\n",
    "        for k, v in kwargs.items():\n",
    "            setattr(self, k, v)\n",
    "    \n",
    "    def set(self, key, val):\n",
    "        self[key] = val\n",
    "        setattr(self, key, val)"
   ]
  },
  {
   "cell_type": "code",
   "execution_count": 43,
   "metadata": {},
   "outputs": [],
   "source": [
    "config = Configuracao(\n",
    "    testing=False,\n",
    "    bert_model_name=\"bert-base-uncased\",\n",
    "    max_lr=3e-5,\n",
    "    epochs=6,\n",
    "    use_fp16=True,\n",
    "    bs=32,\n",
    "    discriminative=False,\n",
    "    max_seq_len=128,\n",
    ")\n",
    "\n",
    "from pytorch_pretrained_bert import BertTokenizer\n",
    "\n",
    "bert_token = BertTokenizer.from_pretrained(\n",
    "    config.bert_model_name,\n",
    ")\n",
    "\n",
    "class FastAiBertTokenizer(BaseTokenizer):\n",
    "    def __init__(self, tokenizer: BertTokenizer, max_seq_len: int=128, **kwargs):\n",
    "        self._pretrained_tokenizer = tokenizer\n",
    "        self.max_seq_len = max_seq_len\n",
    "    def __call__(self, *args, **kwargs):\n",
    "        return self\n",
    "    def tokenizer(self, t:str) -> List[str]:\n",
    "        return [\"[CLS]\"] + self._pretrained_tokenizer.tokenize(t)[:self.max_seq_len - 2] + [\"[SEP]\"]\n",
    "\n",
    "fastai_tokenizer = Tokenizer(tok_func=FastAiBertTokenizer(bert_token, max_seq_len=config.max_seq_len), pre_rules=[], post_rules=[])\n",
    "\n",
    "fastai_bert_vocab = Vocab(list(bert_token.vocab.keys()))\n",
    "\n",
    "df_train=pd.read_csv('train.csv')\n",
    "df_train.columns\n",
    "\n",
    "from sklearn.model_selection import train_test_split\n",
    "train, val = train_test_split(df_train)\n",
    "\n",
    "databunch = TextDataBunch.from_df(\".\", train, val, \n",
    "                  tokenizer=fastai_tokenizer,\n",
    "                  vocab=fastai_bert_vocab,\n",
    "                  include_bos=False,\n",
    "                  include_eos=False,\n",
    "                  text_cols=\"comment_text\",\n",
    "                  label_cols=['toxic'],\n",
    "                  bs=config.bs,\n",
    "                  collate_fn=partial(pad_collate, pad_first=False, pad_idx=0),\n",
    "             )"
   ]
  },
  {
   "cell_type": "code",
   "execution_count": 56,
   "metadata": {},
   "outputs": [
    {
     "data": {
      "text/plain": [
       "TextClasDataBunch;\n",
       "\n",
       "Train: LabelList (119678 items)\n",
       "x: TextList\n",
       "[CLS] http : / / com ##m . colorado . ed ##u / ~ jackson ##j / research / co ##on . pdf there look at my talk page ryan ##ther ##ave ##ns ##fan ##1 . it is proof the discussion and citing of the mans work was a fraud . if you try to make this bullshit again i am reporting you . [SEP],[CLS] } } { { wi ##ki ##pro ##ject wi ##ki ##pro ##ject historic sites | class = [SEP],[CLS] \" whether one agrees or disagree ##s with this theory , it is essentially a point of view about what happens in the israeli – palestinian conflict , and should first be mentioned or developed there . it can be turned into its own article , per w ##p : ss , if its section there becomes too large , and if it is notable enough for its own article - that is , if there are many reliable sources discussing this theory . you see , with a topic as broad as this conflict , there are very many theories and points of view about it , from both sides of the conflict , and if they each had an article , we would have [SEP],[CLS] \" \" \" i ' m about to sa ##bot ##oge f ##s ' s chances of getting on the main page . cong ##rad ##ulation ##s . \" \" - pm on ir ##c . sven ' s statement is very ex ##pl ##ic ##ti ##tly him troll ##ing . ' ' ' ' ' ' \" [SEP],[CLS] the pr ##act ##ise of st ##if ##ling open discussion is common to authoritarian regimes of all sorts . just the other day , i read an interesting obituary of emilio mass ##era who specialised in making political opponents disappear by use of force maj ##eur ##e . the common theme here is that of making things disappear without due process and debate . my comments are of a general nature — indicating that this is bad and that we should proceed otherwise . [SEP]\n",
       "y: CategoryList\n",
       "1,0,0,0,0\n",
       "Path: .;\n",
       "\n",
       "Valid: LabelList (39893 items)\n",
       "x: TextList\n",
       "[CLS] ken ##nett went to greenland and detected nano ##dia ##mond ##s , they were contested on the basis that there were not he ##xa ##gonal nano ##dia ##mond ##s with claims that only lo ##ns ##dale ##ite is indicative of impacts . further research has ref ##uted that claim , and nano ##dia ##mond ##s are not delivered in situ , they are created in the impact . in fact further research has concluded that the nano ##dia ##mond ##s are a mix of cubic , he ##xa ##gonal , new previously unknown poly ##mo ##rp ##hs and always accompanied by a mix of carbon sheet poly ##mo ##rp ##hs , that transition nearly continuously to nano ##dia ##mond . the madden found nano ##dia ##mond [SEP],[CLS] so clearly live ##like ##music has two ( or more ) of them or you wouldn ' t have brought it up . lovely . [SEP],[CLS] \" copyright violation large portions of this article appear to be copied from the nr ##a ' s \" \" citizen ' s guide to federal firearms laws - summary . \" \" this source was attributed to a couple parts , but those parts were actually lifted from the citizen ' s guide . \" [SEP],[CLS] the name , according to my re ##mini ##sc ##ence ##s , is emil . [SEP],[CLS] \" i respect your rational ##e , but if a topic is so talked about and has references what ##s the need for a wi ##ki entry . i need to re ##thi ##nk using wi ##ki at all , if not contributing to it ( cause its not better than google search for consolidation of information ) — preceding unsigned comment added by ( talk • con ##tri ##bs ) \" [SEP]\n",
       "y: CategoryList\n",
       "0,0,0,0,0\n",
       "Path: .;\n",
       "\n",
       "Test: None"
      ]
     },
     "execution_count": 56,
     "metadata": {},
     "output_type": "execute_result"
    }
   ],
   "source": [
    "databunch"
   ]
  },
  {
   "cell_type": "code",
   "execution_count": 51,
   "metadata": {},
   "outputs": [],
   "source": [
    "from pytorch_pretrained_bert.modeling import BertConfig, BertForSequenceClassification\n",
    "\n",
    "modelo = BertForSequenceClassification.from_pretrained(config.bert_model_name, num_labels=2)\n",
    "\n",
    "learn_data = Learner(\n",
    "    databunch, modelo,\n",
    "    metrics=[accuracy]\n",
    ")\n",
    "\n",
    "#learn_data.callbacks.append(ShowGraph(learner))\n",
    "\n"
   ]
  },
  {
   "cell_type": "code",
   "execution_count": 52,
   "metadata": {},
   "outputs": [
    {
     "data": {
      "text/html": [],
      "text/plain": [
       "<IPython.core.display.HTML object>"
      ]
     },
     "metadata": {},
     "output_type": "display_data"
    },
    {
     "name": "stdout",
     "output_type": "stream",
     "text": [
      "LR Finder is complete, type {learner_name}.recorder.plot() to see the graph.\n"
     ]
    }
   ],
   "source": [
    "learn_data.lr_find()"
   ]
  },
  {
   "cell_type": "code",
   "execution_count": 53,
   "metadata": {
    "scrolled": true
   },
   "outputs": [
    {
     "name": "stdout",
     "output_type": "stream",
     "text": [
      "Min numerical gradient: 7.59E-05\n",
      "Min loss divided by 10: 9.12E-04\n"
     ]
    },
    {
     "data": {
      "image/png": "[encoded data removed]",
      "text/plain": [
       "<Figure size 432x288 with 1 Axes>"
      ]
     },
     "metadata": {
      "needs_background": "light"
     },
     "output_type": "display_data"
    }
   ],
   "source": [
    "learn_data.recorder.plot(suggestion=True)"
   ]
  },
  {
   "cell_type": "code",
   "execution_count": 54,
   "metadata": {
    "scrolled": true
   },
   "outputs": [
    {
     "data": {
      "text/html": [
       "<table border=\"1\" class=\"dataframe\">\n",
       "  <thead>\n",
       "    <tr style=\"text-align: left;\">\n",
       "      <th>epoch</th>\n",
       "      <th>train_loss</th>\n",
       "      <th>valid_loss</th>\n",
       "      <th>accuracy</th>\n",
       "      <th>time</th>\n",
       "    </tr>\n",
       "  </thead>\n",
       "  <tbody>\n",
       "    <tr>\n",
       "      <td>0</td>\n",
       "      <td>0.081484</td>\n",
       "      <td>0.080063</td>\n",
       "      <td>0.969243</td>\n",
       "      <td>11:20</td>\n",
       "    </tr>\n",
       "  </tbody>\n",
       "</table>"
      ],
      "text/plain": [
       "<IPython.core.display.HTML object>"
      ]
     },
     "metadata": {},
     "output_type": "display_data"
    }
   ],
   "source": [
    "learn_data.fit_one_cycle(1, max_lr=3e-5)"
   ]
  },
  {
   "cell_type": "code",
   "execution_count": null,
   "metadata": {},
   "outputs": [],
   "source": []
  }
 ],
 "metadata": {
  "kernelspec": {
   "display_name": "Python 3",
   "language": "python",
   "name": "python3"
  },
  "language_info": {
   "codemirror_mode": {
    "name": "ipython",
    "version": 3
   },
   "file_extension": ".py",
   "mimetype": "text/x-python",
   "name": "python",
   "nbconvert_exporter": "python",
   "pygments_lexer": "ipython3",
   "version": "3.7.4"
  }
 },
 "nbformat": 4,
 "nbformat_minor": 2
}
