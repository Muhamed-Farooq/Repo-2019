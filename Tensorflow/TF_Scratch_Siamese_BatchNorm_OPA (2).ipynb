{
 "cells": [
  {
   "cell_type": "code",
   "execution_count": 12,
   "metadata": {},
   "outputs": [],
   "source": [
    "import tensorflow as tf\n",
    "import numpy as np\n",
    "import matplotlib.pyplot as plt\n",
    "import pandas as pd"
   ]
  },
  {
   "cell_type": "code",
   "execution_count": 13,
   "metadata": {},
   "outputs": [
    {
     "data": {
      "text/plain": [
       "(60000, 28, 28)"
      ]
     },
     "execution_count": 13,
     "metadata": {},
     "output_type": "execute_result"
    }
   ],
   "source": [
    "from keras.datasets import mnist\n",
    "\n",
    "(x_train, y_train), (x_test, y_test) = mnist.load_data()\n",
    "\n",
    "x_train.shape"
   ]
  },
  {
   "cell_type": "code",
   "execution_count": 130,
   "metadata": {},
   "outputs": [
    {
     "name": "stderr",
     "output_type": "stream",
     "text": [
      "/home/rubensvectomobile_gmail_com/.local/lib/python3.5/site-packages/tensorflow/python/client/session.py:1735: UserWarning: An interactive session is already active. This can cause out-of-memory errors in some cases. You must explicitly call `InteractiveSession.close()` to release resources held by the other session(s).\n",
      "  warnings.warn('An interactive session is already active. This can '\n"
     ]
    }
   ],
   "source": [
    "from tensorflow.compat.v1 import ConfigProto\n",
    "from tensorflow.compat.v1 import InteractiveSession\n",
    "from tensorflow.contrib.layers.python.layers import batch_norm as batch_norm\n",
    "\n",
    "config = ConfigProto()\n",
    "config.gpu_options.allow_growth = True\n",
    "session = InteractiveSession(config=config)\n",
    "\n",
    "batch_size=1000\n",
    "\n",
    "tf.reset_default_graph()\n",
    "graph = tf.Graph()\n",
    "with graph.as_default():\n",
    "    #tf.set_random_seed(2)\n",
    "    \n",
    "    X = tf.placeholder(dtype=tf.float32)\n",
    "    X2 = tf.placeholder(dtype=tf.float32)\n",
    "    Y = tf.placeholder(dtype=tf.float32)\n",
    "    \n",
    "    num_hidden=256\n",
    "\n",
    "\n",
    "    # Build a hidden layer Left\n",
    "    W_hidden = tf.Variable(tf.random.normal([784, num_hidden]))\n",
    "    b_hidden = tf.Variable(tf.random.normal([num_hidden]))\n",
    "    p_hidden = tf.nn.relu( tf.add(tf.matmul(X, W_hidden), b_hidden) )\n",
    "\n",
    "    W_hidden2 = tf.Variable(tf.random.normal([num_hidden, num_hidden]))\n",
    "    b_hidden2 = tf.Variable(tf.random.normal([num_hidden]))\n",
    "    p_hidden2 = tf.layers.batch_normalization(tf.reshape(tf.add(tf.matmul(p_hidden, W_hidden2), b_hidden2) ,[batch_size,num_hidden]))\n",
    "    p_hidden22 = tf.nn.relu(p_hidden2)\n",
    "\n",
    "    # Build a hidden layer Right\n",
    "    W_hiddenR = tf.Variable(tf.random.normal([784, num_hidden]))\n",
    "    b_hiddenR = tf.Variable(tf.random.normal([num_hidden]))\n",
    "    p_hiddenR = tf.nn.relu( tf.add(tf.matmul(X2, W_hiddenR), b_hiddenR) )\n",
    "\n",
    "    W_hidden2R = tf.Variable(tf.random.normal([num_hidden, num_hidden]))\n",
    "    b_hidden2R = tf.Variable(tf.random.normal([num_hidden]))\n",
    "    p_hidden2R = tf.layers.batch_normalization(tf.reshape(tf.add(tf.matmul(p_hiddenR, W_hidden2R), b_hidden2R),[batch_size,num_hidden]))\n",
    "    p_hidden2R2 = tf.nn.relu(p_hidden2R)\n",
    "\n",
    "    # Conncatenate Left + Right\n",
    "    W_concat = tf.Variable(tf.random.normal([num_hidden,num_hidden]))\n",
    "    b_concat = tf.Variable(tf.random.normal([num_hidden]))\n",
    "    p_concat2 = tf.add(tf.matmul(tf.divide(tf.math.add(p_hidden22,p_hidden2R2),2), W_concat), b_concat)\n",
    "    p_concat3 = tf.layers.batch_normalization(tf.reshape(p_concat2,[batch_size,num_hidden]))\n",
    "    p_concat22=tf.nn.relu(p_concat3)\n",
    "    \n",
    "    # Build the output layer\n",
    "    W_output = tf.Variable(tf.random.normal([num_hidden, 10]))\n",
    "    b_output = tf.Variable(tf.random.normal([10]))\n",
    "    p_output = tf.nn.softmax( tf.add(tf.matmul(p_concat22, W_output), b_output))\n",
    "    \n",
    "    loss = tf.reduce_mean(tf.nn.softmax_cross_entropy_with_logits_v2(labels=Y,logits=p_output))\n",
    "    acc, acc_op = tf.metrics.accuracy(labels=tf.argmax(Y,1), \n",
    "                                      predictions=tf.argmax(p_output,1))\n",
    "    \n",
    "    minimization_op = tf.train.GradientDescentOptimizer(learning_rate=0.015).minimize(loss)\n",
    "    saver = tf.train.Saver()\n",
    "    \n",
    "    limit=10000\n",
    "    \n",
    "    def norm(x):\n",
    "        return (x-np.min(x))/(np.max(x)-np.min(x))\n",
    "\n",
    "    feed_dict = {\n",
    "        X: norm(x_train.reshape(-1,784)),\n",
    "        X2: norm(x_train.reshape(-1,784)),\n",
    "        Y: pd.get_dummies(y_train)\n",
    "    }"
   ]
  },
  {
   "cell_type": "code",
   "execution_count": null,
   "metadata": {},
   "outputs": [],
   "source": [
    "def next_batch(num, data, labels):\n",
    "    idx = np.arange(0 , len(data))\n",
    "    np.random.shuffle(idx)\n",
    "    idx = idx[:num]\n",
    "    data_shuffle = [data[ i] for i in idx]\n",
    "    labels_shuffle = [labels[ i] for i in idx]\n",
    "    return np.asarray(data_shuffle).astype(np.float32), np.asarray(labels_shuffle).astype(np.float32)"
   ]
  },
  {
   "cell_type": "code",
   "execution_count": null,
   "metadata": {
    "scrolled": false
   },
   "outputs": [
    {
     "name": "stdout",
     "output_type": "stream",
     "text": [
      "Step: 0  Loss: 2.3531501  Accuracy: 0.108\n",
      "Step: 10  Loss: 2.35115  Accuracy: 0.11\n",
      "Step: 20  Loss: 2.3301501  Accuracy: 0.131\n",
      "Step: 30  Loss: 2.3400643  Accuracy: 0.121\n",
      "Step: 40  Loss: 2.317156  Accuracy: 0.144\n"
     ]
    }
   ],
   "source": [
    "\n",
    "with tf.Session(graph=graph, config=config) as session:\n",
    "    init = tf.group(tf.global_variables_initializer(), tf.local_variables_initializer())\n",
    "    session.run(init)\n",
    "    \n",
    "    for step in range(3000):\n",
    "\n",
    "        X0, Y0 = next_batch(batch_size, x_train, y_train)\n",
    "        X02=X0\n",
    "        \n",
    "        feed_dict = {\n",
    "        X: norm(X0.reshape(-1,784)),\n",
    "        X2: norm(X02.reshape(-1,784)),\n",
    "        Y: pd.get_dummies(Y0)}\n",
    "        \n",
    "        J_value = session.run(loss, feed_dict)\n",
    "        acc = (batch_size-session.run(tf.count_nonzero(tf.add(tf.argmax(session.run(Y, feed_dict),1),-tf.argmax(session.run(p_output, feed_dict),1)))))/batch_size\n",
    "        if step % 10 == 0:\n",
    "            print(\"Step:\", step, \" Loss:\", J_value,\" Accuracy:\", acc)\n",
    "        session.run(minimization_op, feed_dict)\n"
   ]
  },
  {
   "cell_type": "code",
   "execution_count": null,
   "metadata": {},
   "outputs": [],
   "source": []
  },
  {
   "cell_type": "code",
   "execution_count": null,
   "metadata": {
    "scrolled": false
   },
   "outputs": [],
   "source": [
    "with tf.Session() as session:\n",
    "    session.run(tf.global_variables_initializer())\n",
    "    W_hidden_value = session.run(W_hidden)\n",
    "    print(\"Hidden layer weight matrix:\\n\", W_hidden_value)\n",
    "    b_hidden_value = session.run(b_hidden)\n",
    "    print(\"Hidden layer bias:\\n\", b_hidden_value)\n",
    "    W_output_value = session.run(W_output)\n",
    "    print(\"Output layer weight matrix:\\n\", W_output_value)\n",
    "    b_output_value = session.run(b_output)\n",
    "    print(\"Output layer bias:\\n\", b_output_value)"
   ]
  },
  {
   "cell_type": "code",
   "execution_count": null,
   "metadata": {},
   "outputs": [],
   "source": []
  },
  {
   "cell_type": "code",
   "execution_count": null,
   "metadata": {},
   "outputs": [],
   "source": [
    "from sklearn.metrics import confusion_matrix\n",
    "confusion_matrix(y_test, np.argmax(np.array(pred00).reshape(60000,-1),axis=1))"
   ]
  },
  {
   "cell_type": "code",
   "execution_count": null,
   "metadata": {},
   "outputs": [],
   "source": []
  }
 ],
 "metadata": {
  "kernelspec": {
   "display_name": "Python 3",
   "language": "python",
   "name": "python3"
  },
  "language_info": {
   "codemirror_mode": {
    "name": "ipython",
    "version": 3
   },
   "file_extension": ".py",
   "mimetype": "text/x-python",
   "name": "python",
   "nbconvert_exporter": "python",
   "pygments_lexer": "ipython3",
   "version": "3.5.3"
  }
 },
 "nbformat": 4,
 "nbformat_minor": 2
}
