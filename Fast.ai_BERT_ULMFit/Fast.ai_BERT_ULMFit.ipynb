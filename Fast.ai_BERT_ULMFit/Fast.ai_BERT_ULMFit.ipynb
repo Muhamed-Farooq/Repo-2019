{
 "cells": [
  {
   "cell_type": "code",
   "execution_count": 2,
   "metadata": {},
   "outputs": [],
   "source": [
    "import pandas as pd\n",
    "from pathlib import Path\n",
    "import matplotlib.cm as cm\n",
    "from fastai import *\n",
    "from fastai.text import *\n",
    "from fastai.callbacks import *\n",
    "from fastai.metrics import *\n",
    "import numpy as np\n",
    "from pathlib import Path\n",
    "from typing import *\n",
    "import torch\n",
    "import torch.optim as optim\n",
    "from transformers import *\n",
    "\n",
    "class Configuracao(dict):\n",
    "    def __init__(self, **kwargs):\n",
    "        super().__init__(**kwargs)\n",
    "        for k, v in kwargs.items():\n",
    "            setattr(self, k, v)\n",
    "    \n",
    "    def set(self, key, val):\n",
    "        self[key] = val\n",
    "        setattr(self, key, val)"
   ]
  },
  {
   "cell_type": "code",
   "execution_count": 3,
   "metadata": {},
   "outputs": [],
   "source": [
    "# !gsutil cp gs://dataset-uploader/bbc/bbc-text.csv ."
   ]
  },
  {
   "cell_type": "code",
   "execution_count": 4,
   "metadata": {},
   "outputs": [
    {
     "data": {
      "text/plain": [
       "True"
      ]
     },
     "execution_count": 4,
     "metadata": {},
     "output_type": "execute_result"
    }
   ],
   "source": [
    "torch.cuda.is_available()"
   ]
  },
  {
   "cell_type": "code",
   "execution_count": 5,
   "metadata": {},
   "outputs": [],
   "source": [
    "config = Configuracao(\n",
    "    testing=False,\n",
    "    bert_model_name=\"bert-base-uncased\",\n",
    "    max_lr=3e-5,\n",
    "    epochs=6,\n",
    "    use_fp16=True,\n",
    "    bs=32,\n",
    "    discriminative=False,\n",
    "    max_seq_len=128,\n",
    ")\n",
    "\n",
    "from pytorch_pretrained_bert import BertTokenizer\n",
    "\n",
    "bert_token = BertTokenizer.from_pretrained(\n",
    "    config.bert_model_name,\n",
    ")\n",
    "\n",
    "class FastAiBertTokenizer(BaseTokenizer):\n",
    "    def __init__(self, tokenizer: BertTokenizer, max_seq_len: int=128, **kwargs):\n",
    "        self._pretrained_tokenizer = tokenizer\n",
    "        self.max_seq_len = max_seq_len\n",
    "    def __call__(self, *args, **kwargs):\n",
    "        return self\n",
    "    def tokenizer(self, t:str) -> List[str]:\n",
    "        return [\"[CLS]\"] + self._pretrained_tokenizer.tokenize(t)[:self.max_seq_len - 2] + [\"[SEP]\"]\n",
    "\n",
    "fastai_tokenizer = Tokenizer(tok_func=FastAiBertTokenizer(bert_token, max_seq_len=config.max_seq_len), pre_rules=[], post_rules=[])\n",
    "\n",
    "fastai_bert_vocab = Vocab(list(bert_token.vocab.keys()))\n",
    "\n",
    "df_train=pd.read_csv('train.csv')\n",
    "df_train.columns\n",
    "\n",
    "from sklearn.model_selection import train_test_split\n",
    "train, val = train_test_split(df_train)\n",
    "\n",
    "databunch = TextDataBunch.from_df(\".\", train, val, \n",
    "                  tokenizer=fastai_tokenizer,\n",
    "                  vocab=fastai_bert_vocab,\n",
    "                  include_bos=False,\n",
    "                  include_eos=False,\n",
    "                  text_cols=\"comment_text\",\n",
    "                  label_cols=['toxic'],\n",
    "                  bs=config.bs,\n",
    "                  collate_fn=partial(pad_collate, pad_first=False, pad_idx=0),\n",
    "             )"
   ]
  },
  {
   "cell_type": "code",
   "execution_count": 6,
   "metadata": {},
   "outputs": [
    {
     "data": {
      "text/plain": [
       "TextClasDataBunch;\n",
       "\n",
       "Train: LabelList (119678 items)\n",
       "x: TextList\n",
       "[CLS] why are you such an idiot ? ? [SEP],[CLS] fuck this mother ##fu ##cker asshole this asshole should not have his own page , nor should any other hi ##jack ##ers . giving them their own pages on wikipedia is g ##lor ##ifying their evil . i hope this mother ##fu ##cker rot ##s in hell . fuck mohammed at ##ta , sc ##um of the earth . [SEP],[CLS] yeah back ##fire is a very good word for it and i think you ' re on the money regarding imagine being pi ##mp ##ed . i ' m having a blast watching this un ##fold . [SEP],[CLS] i know that madonna ##tri ##be is a fans ##ite . nonetheless , almost all of their exclusive ##s have later been confirmed by official sources , such as the full set ##lists of madonna ' s two latest tours and titles of 5 songs off madonna ' s hard candy album . as of now , their news item on the track ##list ##ing is access ##able from their front page , as a top news story . however , as i ' ve already commented , the track ##list ##ing hasn ' t been officially confirmed , and therefore , i agree that it shouldn ' t be included in the article itself for the moment . as for the release date , warner [SEP],[CLS] \" source we don ' t need to add the government document directly , the figure of 500 , 000 indians in bangladesh is cited by the financial express , a major daily in bangladesh and a reliable source . if anyone has questions about the reliability of the source , please take it to w ##p : rs ##n instead of removing the contents . ' ' ' ' ' ' ' ' ' ' ( talk ) \" [SEP]\n",
       "y: CategoryList\n",
       "1,1,0,0,0\n",
       "Path: .;\n",
       "\n",
       "Valid: LabelList (39893 items)\n",
       "x: TextList\n",
       "[CLS] \" straight until proven gay no evidence he was gay so removed it . especially bad was the article ' s citation of the new york times obituary as \" \" proof \" \" of his sexual preference . click on it and read it . it ' s still there for the other references . it says he left no immediate survivors , nothing else about his personal life . lots of old people die without immediate survivors . \" [SEP],[CLS] \" my antagonist is actually quite grammatical and liter ##ate ( however , when he ' s wrong he ' s very wrong ) . i did begin to prepare the di ##ffs for an ar ##bc ##om in my user space but they were just sum ##mar ##ily deleted . thanks for your prompt and considered reply , edward . \" [SEP],[CLS] \" i ' d hate to bring this up again , but this edit seems like a prime example of w ##p : point . adi ##ant _ > | < 19 : 30 , jun 26 , 2005 ( utc ) \" [SEP],[CLS] metropolitan area is rather a mis ##no ##mer for this university - religious nut of a town . the university owns most of the public land , di ##cta ##tes city policy , and it is largely residential other than the two main arteries di ##sse ##cting it : college st . from n . to s . and op ##eli ##ka rd from e . to w . look at any us or alabama state map and the area does not even register for a small inlet map detail . also , a metro area should have a decent public transportation system ; tiger transit is laugh ##able . rather pre ##ten ##tious to refer to it as a metro to anyone outside the insane [SEP],[CLS] i have edited the page to make the summary as fair as possible . it dose ##nt say that ned ##a was killed by bas ##ij and it has your statement that the western media is to blame . happy ? [SEP]\n",
       "y: CategoryList\n",
       "0,0,0,0,0\n",
       "Path: .;\n",
       "\n",
       "Test: None"
      ]
     },
     "execution_count": 6,
     "metadata": {},
     "output_type": "execute_result"
    }
   ],
   "source": [
    "databunch"
   ]
  },
  {
   "cell_type": "code",
   "execution_count": 7,
   "metadata": {},
   "outputs": [],
   "source": [
    "from pytorch_pretrained_bert.modeling import BertConfig, BertForSequenceClassification\n",
    "\n",
    "modelo = BertForSequenceClassification.from_pretrained(config.bert_model_name, num_labels=2)\n",
    "\n",
    "learn_data = Learner(\n",
    "    databunch, modelo,\n",
    "    metrics=[accuracy]\n",
    ")\n",
    "\n",
    "#learn_data.callbacks.append(ShowGraph(learner))\n",
    "\n"
   ]
  },
  {
   "cell_type": "code",
   "execution_count": 8,
   "metadata": {},
   "outputs": [
    {
     "data": {
      "text/html": [],
      "text/plain": [
       "<IPython.core.display.HTML object>"
      ]
     },
     "metadata": {},
     "output_type": "display_data"
    },
    {
     "name": "stdout",
     "output_type": "stream",
     "text": [
      "LR Finder is complete, type {learner_name}.recorder.plot() to see the graph.\n"
     ]
    }
   ],
   "source": [
    "learn_data.lr_find()"
   ]
  },
  {
   "cell_type": "code",
   "execution_count": 9,
   "metadata": {},
   "outputs": [
    {
     "name": "stdout",
     "output_type": "stream",
     "text": [
      "Min numerical gradient: 9.12E-05\n",
      "Min loss divided by 10: 1.10E-03\n"
     ]
    },
    {
     "data": {
      "image/png": "[encoded data removed]",
      "text/plain": [
       "<Figure size 432x288 with 1 Axes>"
      ]
     },
     "metadata": {
      "needs_background": "light"
     },
     "output_type": "display_data"
    }
   ],
   "source": [
    "learn_data.recorder.plot(suggestion=True)"
   ]
  },
  {
   "cell_type": "code",
   "execution_count": 10,
   "metadata": {
    "scrolled": true
   },
   "outputs": [
    {
     "data": {
      "text/html": [
       "<table border=\"1\" class=\"dataframe\">\n",
       "  <thead>\n",
       "    <tr style=\"text-align: left;\">\n",
       "      <th>epoch</th>\n",
       "      <th>train_loss</th>\n",
       "      <th>valid_loss</th>\n",
       "      <th>accuracy</th>\n",
       "      <th>time</th>\n",
       "    </tr>\n",
       "  </thead>\n",
       "  <tbody>\n",
       "    <tr>\n",
       "      <td>0</td>\n",
       "      <td>0.072850</td>\n",
       "      <td>0.079919</td>\n",
       "      <td>0.969168</td>\n",
       "      <td>11:40</td>\n",
       "    </tr>\n",
       "  </tbody>\n",
       "</table>"
      ],
      "text/plain": [
       "<IPython.core.display.HTML object>"
      ]
     },
     "metadata": {},
     "output_type": "display_data"
    }
   ],
   "source": [
    "learn_data.fit_one_cycle(1, max_lr=3e-5)"
   ]
  },
  {
   "cell_type": "code",
   "execution_count": 11,
   "metadata": {},
   "outputs": [
    {
     "data": {
      "text/html": [
       "<table border=\"1\" class=\"dataframe\">\n",
       "  <thead>\n",
       "    <tr style=\"text-align: left;\">\n",
       "      <th>epoch</th>\n",
       "      <th>train_loss</th>\n",
       "      <th>valid_loss</th>\n",
       "      <th>accuracy</th>\n",
       "      <th>time</th>\n",
       "    </tr>\n",
       "  </thead>\n",
       "  <tbody>\n",
       "    <tr>\n",
       "      <td>0</td>\n",
       "      <td>0.071179</td>\n",
       "      <td>0.084944</td>\n",
       "      <td>0.967538</td>\n",
       "      <td>10:55</td>\n",
       "    </tr>\n",
       "    <tr>\n",
       "      <td>1</td>\n",
       "      <td>0.051193</td>\n",
       "      <td>0.103908</td>\n",
       "      <td>0.967689</td>\n",
       "      <td>13:03</td>\n",
       "    </tr>\n",
       "    <tr>\n",
       "      <td>2</td>\n",
       "      <td>0.021878</td>\n",
       "      <td>0.134671</td>\n",
       "      <td>0.967237</td>\n",
       "      <td>11:52</td>\n",
       "    </tr>\n",
       "  </tbody>\n",
       "</table>"
      ],
      "text/plain": [
       "<IPython.core.display.HTML object>"
      ]
     },
     "metadata": {},
     "output_type": "display_data"
    }
   ],
   "source": [
    "learn_data.unfreeze()\n",
    "learn_data.fit_one_cycle(3, max_lr=3e-5)"
   ]
  },
  {
   "cell_type": "code",
   "execution_count": 12,
   "metadata": {},
   "outputs": [
    {
     "data": {
      "text/html": [
       "<div>\n",
       "<style scoped>\n",
       "    .dataframe tbody tr th:only-of-type {\n",
       "        vertical-align: middle;\n",
       "    }\n",
       "\n",
       "    .dataframe tbody tr th {\n",
       "        vertical-align: top;\n",
       "    }\n",
       "\n",
       "    .dataframe thead th {\n",
       "        text-align: right;\n",
       "    }\n",
       "</style>\n",
       "<table border=\"1\" class=\"dataframe\">\n",
       "  <thead>\n",
       "    <tr style=\"text-align: right;\">\n",
       "      <th>col_0</th>\n",
       "      <th>0</th>\n",
       "      <th>1</th>\n",
       "    </tr>\n",
       "    <tr>\n",
       "      <th>row_0</th>\n",
       "      <th></th>\n",
       "      <th></th>\n",
       "    </tr>\n",
       "  </thead>\n",
       "  <tbody>\n",
       "    <tr>\n",
       "      <td>0</td>\n",
       "      <td>35568</td>\n",
       "      <td>768</td>\n",
       "    </tr>\n",
       "    <tr>\n",
       "      <td>1</td>\n",
       "      <td>539</td>\n",
       "      <td>3018</td>\n",
       "    </tr>\n",
       "  </tbody>\n",
       "</table>\n",
       "</div>"
      ],
      "text/plain": [
       "col_0      0     1\n",
       "row_0             \n",
       "0      35568   768\n",
       "1        539  3018"
      ]
     },
     "execution_count": 12,
     "metadata": {},
     "output_type": "execute_result"
    }
   ],
   "source": [
    "preds, targets = learn_data.get_preds()\n",
    "predictions = np.argmax(preds, axis=1)\n",
    "pd.crosstab(predictions, targets)"
   ]
  },
  {
   "cell_type": "code",
   "execution_count": 13,
   "metadata": {},
   "outputs": [],
   "source": [
    "data_lm = TextLMDataBunch.from_csv('/home/rubensvectomobile_gmail_com/', 'bbc-text.csv', min_freq=1)\n"
   ]
  },
  {
   "cell_type": "code",
   "execution_count": 14,
   "metadata": {},
   "outputs": [
    {
     "data": {
      "text/html": [
       "<table border=\"1\" class=\"dataframe\">\n",
       "  <thead>\n",
       "    <tr style=\"text-align: right;\">\n",
       "      <th>idx</th>\n",
       "      <th>text</th>\n",
       "    </tr>\n",
       "  </thead>\n",
       "  <tbody>\n",
       "    <tr>\n",
       "      <td>0</td>\n",
       "      <td>the minimum wage was introduced in 1999 . businesses wanted it frozen warning more rises could damage competitiveness but the unions want a £ 6 rate . a further increase in the adult rate to £ 5.35 an hour is provisionally scheduled for october 2006 . according to the commission many businesses had found the last two significant increases in the minimum wage challenging . we have therefore recommended only</td>\n",
       "    </tr>\n",
       "    <tr>\n",
       "      <td>1</td>\n",
       "      <td>and the department for education and skills are running the programme . pupils will stand as party candidates speech writers and canvassers . michael raftery project manager at the hansard society said : the y vote mock elections for schools mirror the excitement and buzz of a real election raising awareness of citizenship and the benefits of active democracy . the mock votes will take place around 5 may widely</td>\n",
       "    </tr>\n",
       "    <tr>\n",
       "      <td>2</td>\n",
       "      <td>17-year - old andrew murray and david sherwood in the doubles rubber . bogdanovic and murray both pulled out of tournaments last week through injury but are expected to be fit . jamie delgado and lee childs have been called into the squad in tel aviv as designated hitters for team practice but bates has no plans to call either of them into his squad at present . the unheralded</td>\n",
       "    </tr>\n",
       "    <tr>\n",
       "      <td>3</td>\n",
       "      <td>said the budget was a wasted opportunity for environmental protection adding : brown obviously has an eye on the coming election and has taken his eye off the needs of the planet . xxbos stock market eyes japan recovery japanese shares have ended the year at their highest level since 13 july amidst hopes of an economic recovery during 2005 . the nikkei index of leading shares gained 7.6 %</td>\n",
       "    </tr>\n",
       "    <tr>\n",
       "      <td>4</td>\n",
       "      <td>media player and instant messaging . four other important fixes were also released . these were considered to be less critical however . if not updated either automatically or manually pc users running the programs could be vulnerable to viruses or other malicious attacks designed to exploit the holes . many of the flaws could be used by virus writers to take over computers remotely install programs change and delete</td>\n",
       "    </tr>\n",
       "  </tbody>\n",
       "</table>"
      ],
      "text/plain": [
       "<IPython.core.display.HTML object>"
      ]
     },
     "metadata": {},
     "output_type": "display_data"
    }
   ],
   "source": [
    "data_lm.show_batch()"
   ]
  },
  {
   "cell_type": "code",
   "execution_count": 15,
   "metadata": {},
   "outputs": [],
   "source": [
    "learn = language_model_learner(data_lm, AWD_LSTM, drop_mult=0.7)"
   ]
  },
  {
   "cell_type": "code",
   "execution_count": 16,
   "metadata": {},
   "outputs": [
    {
     "data": {
      "text/plain": [
       "[AWD_LSTM(\n",
       "   (encoder): Embedding(27744, 400, padding_idx=1)\n",
       "   (encoder_dp): EmbeddingDropout(\n",
       "     (emb): Embedding(27744, 400, padding_idx=1)\n",
       "   )\n",
       "   (rnns): ModuleList(\n",
       "     (0): WeightDropout(\n",
       "       (module): LSTM(400, 1152, batch_first=True)\n",
       "     )\n",
       "     (1): WeightDropout(\n",
       "       (module): LSTM(1152, 1152, batch_first=True)\n",
       "     )\n",
       "     (2): WeightDropout(\n",
       "       (module): LSTM(1152, 400, batch_first=True)\n",
       "     )\n",
       "   )\n",
       "   (input_dp): RNNDropout()\n",
       "   (hidden_dps): ModuleList(\n",
       "     (0): RNNDropout()\n",
       "     (1): RNNDropout()\n",
       "     (2): RNNDropout()\n",
       "   )\n",
       " ), LinearDecoder(\n",
       "   (decoder): Linear(in_features=400, out_features=27744, bias=True)\n",
       "   (output_dp): RNNDropout()\n",
       " )]"
      ]
     },
     "execution_count": 16,
     "metadata": {},
     "output_type": "execute_result"
    }
   ],
   "source": [
    "list(learn.model.children())"
   ]
  },
  {
   "cell_type": "code",
   "execution_count": 17,
   "metadata": {},
   "outputs": [
    {
     "data": {
      "text/html": [],
      "text/plain": [
       "<IPython.core.display.HTML object>"
      ]
     },
     "metadata": {},
     "output_type": "display_data"
    },
    {
     "name": "stdout",
     "output_type": "stream",
     "text": [
      "LR Finder is complete, type {learner_name}.recorder.plot() to see the graph.\n"
     ]
    },
    {
     "data": {
      "image/png": "[encoded data removed]",
      "text/plain": [
       "<Figure size 432x288 with 1 Axes>"
      ]
     },
     "metadata": {
      "needs_background": "light"
     },
     "output_type": "display_data"
    }
   ],
   "source": [
    "learn.lr_find(start_lr=1e-8, end_lr=1e2)\n",
    "learn.recorder.plot()"
   ]
  },
  {
   "cell_type": "code",
   "execution_count": 18,
   "metadata": {},
   "outputs": [
    {
     "data": {
      "text/html": [
       "<table border=\"1\" class=\"dataframe\">\n",
       "  <thead>\n",
       "    <tr style=\"text-align: left;\">\n",
       "      <th>epoch</th>\n",
       "      <th>train_loss</th>\n",
       "      <th>valid_loss</th>\n",
       "      <th>accuracy</th>\n",
       "      <th>time</th>\n",
       "    </tr>\n",
       "  </thead>\n",
       "  <tbody>\n",
       "    <tr>\n",
       "      <td>0</td>\n",
       "      <td>5.031863</td>\n",
       "      <td>4.565862</td>\n",
       "      <td>0.250085</td>\n",
       "      <td>00:15</td>\n",
       "    </tr>\n",
       "  </tbody>\n",
       "</table>"
      ],
      "text/plain": [
       "<IPython.core.display.HTML object>"
      ]
     },
     "metadata": {},
     "output_type": "display_data"
    }
   ],
   "source": [
    "learn.fit_one_cycle(cyc_len=1, max_lr=1e-2, moms=(0.8, 0.7))\n"
   ]
  },
  {
   "cell_type": "code",
   "execution_count": 19,
   "metadata": {},
   "outputs": [
    {
     "data": {
      "text/html": [
       "<table border=\"1\" class=\"dataframe\">\n",
       "  <thead>\n",
       "    <tr style=\"text-align: left;\">\n",
       "      <th>epoch</th>\n",
       "      <th>train_loss</th>\n",
       "      <th>valid_loss</th>\n",
       "      <th>accuracy</th>\n",
       "      <th>time</th>\n",
       "    </tr>\n",
       "  </thead>\n",
       "  <tbody>\n",
       "    <tr>\n",
       "      <td>0</td>\n",
       "      <td>4.516709</td>\n",
       "      <td>4.425093</td>\n",
       "      <td>0.261166</td>\n",
       "      <td>00:18</td>\n",
       "    </tr>\n",
       "    <tr>\n",
       "      <td>1</td>\n",
       "      <td>4.286195</td>\n",
       "      <td>4.338158</td>\n",
       "      <td>0.268442</td>\n",
       "      <td>00:18</td>\n",
       "    </tr>\n",
       "    <tr>\n",
       "      <td>2</td>\n",
       "      <td>4.093995</td>\n",
       "      <td>4.322690</td>\n",
       "      <td>0.270057</td>\n",
       "      <td>00:18</td>\n",
       "    </tr>\n",
       "  </tbody>\n",
       "</table>"
      ],
      "text/plain": [
       "<IPython.core.display.HTML object>"
      ]
     },
     "metadata": {},
     "output_type": "display_data"
    }
   ],
   "source": [
    "learn.unfreeze()\n",
    "learn.fit_one_cycle(3, slice(2e-3/100, 2e-3))"
   ]
  },
  {
   "cell_type": "code",
   "execution_count": 20,
   "metadata": {},
   "outputs": [],
   "source": [
    "learn.save_encoder('ft_enc_balanced')"
   ]
  },
  {
   "cell_type": "code",
   "execution_count": 21,
   "metadata": {},
   "outputs": [],
   "source": [
    "data_clas = TextClasDataBunch.from_csv('/home/rubensvectomobile_gmail_com/', 'bbc-text.csv',vocab=data_lm.train_ds.vocab,\n",
    "                                       min_freq=1, bs=32)\n",
    "data_clas.save('train_ulmfit_balanced_TextClas')"
   ]
  },
  {
   "cell_type": "code",
   "execution_count": 22,
   "metadata": {},
   "outputs": [
    {
     "data": {
      "text/html": [
       "<table border=\"1\" class=\"dataframe\">\n",
       "  <thead>\n",
       "    <tr style=\"text-align: right;\">\n",
       "      <th>text</th>\n",
       "      <th>target</th>\n",
       "    </tr>\n",
       "  </thead>\n",
       "  <tbody>\n",
       "    <tr>\n",
       "      <td>xxbos terror powers expose tyranny the lord chancellor has defended government plans to introduce control orders to keep foreign and british terrorist suspects under house arrest where there isn t enough evidence to put them on trial . lord falconer insists that the proposals do not equate to a police state and strike a balance between protecting the public against the threat of terrorism and upholding civil liberties . but</td>\n",
       "      <td>politics</td>\n",
       "    </tr>\n",
       "    <tr>\n",
       "      <td>xxbos scissor sisters triumph at brits us band scissor sisters led the winners at the uk music industry s brit awards walking off with three prizes . the flamboyant act scored a hat - trick in the international categories winning the best group best album and best newcomer awards . glasgow group franz ferdinand won two prizes as did keane and joss stone who was voted best urban act by</td>\n",
       "      <td>entertainment</td>\n",
       "    </tr>\n",
       "    <tr>\n",
       "      <td>xxbos minimum wage increased to £ 5.05 the minimum wage will rise in october benefiting more than 1 m people the government has announced . adults must be paid at least £ 5.05 an hour up from £ 4.85 while 18 to 21 year olds will be paid £ 4.25 . the recommendations came from the low pay commission which said the number of jobs had continued to grow since</td>\n",
       "      <td>politics</td>\n",
       "    </tr>\n",
       "    <tr>\n",
       "      <td>xxbos brits debate over urban music joss stone a 17-year - old soul singer from devon beat dizzee rascal jamelia lemar and the streets to win best british urban act at the brit awards . her victory has reignited the debate about what urban music is . i m not really comfortable with the word urban . it s a word that s been manufactured in this country and america</td>\n",
       "      <td>entertainment</td>\n",
       "    </tr>\n",
       "    <tr>\n",
       "      <td>xxbos all black magic : new zealand rugby playing colours : all black the haka and more ! the all blacks charles john munro discovered rugby at london s christ college and on his return to nelson he staged new zealand s first game . nelson town met nelson college on 14 may 1870 the town triumphing by two goals to nil instigating a game that would become a national</td>\n",
       "      <td>sport</td>\n",
       "    </tr>\n",
       "  </tbody>\n",
       "</table>"
      ],
      "text/plain": [
       "<IPython.core.display.HTML object>"
      ]
     },
     "metadata": {},
     "output_type": "display_data"
    }
   ],
   "source": [
    "data_clas.show_batch()"
   ]
  },
  {
   "cell_type": "code",
   "execution_count": 23,
   "metadata": {},
   "outputs": [],
   "source": [
    "learn = text_classifier_learner(data_clas,AWD_LSTM, drop_mult=0.7)\n",
    "learn.load_encoder('ft_enc_balanced')\n",
    "learn.freeze()"
   ]
  },
  {
   "cell_type": "code",
   "execution_count": 24,
   "metadata": {},
   "outputs": [],
   "source": [
    "learn.metrics = [accuracy, FBeta('macro')]"
   ]
  },
  {
   "cell_type": "code",
   "execution_count": 25,
   "metadata": {},
   "outputs": [
    {
     "data": {
      "text/html": [],
      "text/plain": [
       "<IPython.core.display.HTML object>"
      ]
     },
     "metadata": {},
     "output_type": "display_data"
    },
    {
     "name": "stdout",
     "output_type": "stream",
     "text": [
      "LR Finder is complete, type {learner_name}.recorder.plot() to see the graph.\n"
     ]
    }
   ],
   "source": [
    "learn.lr_find(start_lr=1e-8, end_lr=1e2)"
   ]
  },
  {
   "cell_type": "code",
   "execution_count": 26,
   "metadata": {},
   "outputs": [
    {
     "name": "stdout",
     "output_type": "stream",
     "text": [
      "Min numerical gradient: 2.51E-03\n",
      "Min loss divided by 10: 1.00E-01\n"
     ]
    },
    {
     "data": {
      "image/png": "[encoded data removed]",
      "text/plain": [
       "<Figure size 432x288 with 1 Axes>"
      ]
     },
     "metadata": {
      "needs_background": "light"
     },
     "output_type": "display_data"
    }
   ],
   "source": [
    "learn.recorder.plot(suggestion=True)"
   ]
  },
  {
   "cell_type": "code",
   "execution_count": 27,
   "metadata": {},
   "outputs": [],
   "source": [
    "min_grad_lr = learn.recorder.min_grad_lr"
   ]
  },
  {
   "cell_type": "code",
   "execution_count": 28,
   "metadata": {},
   "outputs": [
    {
     "data": {
      "text/html": [
       "<table border=\"1\" class=\"dataframe\">\n",
       "  <thead>\n",
       "    <tr style=\"text-align: left;\">\n",
       "      <th>epoch</th>\n",
       "      <th>train_loss</th>\n",
       "      <th>valid_loss</th>\n",
       "      <th>accuracy</th>\n",
       "      <th>f_beta</th>\n",
       "      <th>time</th>\n",
       "    </tr>\n",
       "  </thead>\n",
       "  <tbody>\n",
       "    <tr>\n",
       "      <td>0</td>\n",
       "      <td>0.424459</td>\n",
       "      <td>0.148500</td>\n",
       "      <td>0.973094</td>\n",
       "      <td>0.972047</td>\n",
       "      <td>00:14</td>\n",
       "    </tr>\n",
       "  </tbody>\n",
       "</table>"
      ],
      "text/plain": [
       "<IPython.core.display.HTML object>"
      ]
     },
     "metadata": {},
     "output_type": "display_data"
    }
   ],
   "source": [
    "learn.fit_one_cycle(cyc_len=1, max_lr=min_grad_lr, moms=(0.8, 0.7))"
   ]
  },
  {
   "cell_type": "code",
   "execution_count": 29,
   "metadata": {},
   "outputs": [
    {
     "data": {
      "text/html": [
       "<table border=\"1\" class=\"dataframe\">\n",
       "  <thead>\n",
       "    <tr style=\"text-align: left;\">\n",
       "      <th>epoch</th>\n",
       "      <th>train_loss</th>\n",
       "      <th>valid_loss</th>\n",
       "      <th>accuracy</th>\n",
       "      <th>f_beta</th>\n",
       "      <th>time</th>\n",
       "    </tr>\n",
       "  </thead>\n",
       "  <tbody>\n",
       "    <tr>\n",
       "      <td>0</td>\n",
       "      <td>0.253420</td>\n",
       "      <td>0.101894</td>\n",
       "      <td>0.968610</td>\n",
       "      <td>0.966273</td>\n",
       "      <td>00:20</td>\n",
       "    </tr>\n",
       "  </tbody>\n",
       "</table>"
      ],
      "text/plain": [
       "<IPython.core.display.HTML object>"
      ]
     },
     "metadata": {},
     "output_type": "display_data"
    }
   ],
   "source": [
    "learn.freeze_to(-3)\n",
    "learn.fit_one_cycle(1, slice(1e-5,5e-3), moms=(0.8,0.7))"
   ]
  },
  {
   "cell_type": "code",
   "execution_count": 30,
   "metadata": {},
   "outputs": [
    {
     "data": {
      "text/html": [
       "<table border=\"1\" class=\"dataframe\">\n",
       "  <thead>\n",
       "    <tr style=\"text-align: left;\">\n",
       "      <th>epoch</th>\n",
       "      <th>train_loss</th>\n",
       "      <th>valid_loss</th>\n",
       "      <th>accuracy</th>\n",
       "      <th>f_beta</th>\n",
       "      <th>time</th>\n",
       "    </tr>\n",
       "  </thead>\n",
       "  <tbody>\n",
       "    <tr>\n",
       "      <td>0</td>\n",
       "      <td>0.206390</td>\n",
       "      <td>0.130862</td>\n",
       "      <td>0.948430</td>\n",
       "      <td>0.944258</td>\n",
       "      <td>00:22</td>\n",
       "    </tr>\n",
       "    <tr>\n",
       "      <td>1</td>\n",
       "      <td>0.214947</td>\n",
       "      <td>0.157496</td>\n",
       "      <td>0.948430</td>\n",
       "      <td>0.949081</td>\n",
       "      <td>00:24</td>\n",
       "    </tr>\n",
       "    <tr>\n",
       "      <td>2</td>\n",
       "      <td>0.191354</td>\n",
       "      <td>0.097212</td>\n",
       "      <td>0.961883</td>\n",
       "      <td>0.960544</td>\n",
       "      <td>00:21</td>\n",
       "    </tr>\n",
       "    <tr>\n",
       "      <td>3</td>\n",
       "      <td>0.126706</td>\n",
       "      <td>0.128991</td>\n",
       "      <td>0.961883</td>\n",
       "      <td>0.960982</td>\n",
       "      <td>00:22</td>\n",
       "    </tr>\n",
       "    <tr>\n",
       "      <td>4</td>\n",
       "      <td>0.106320</td>\n",
       "      <td>0.106188</td>\n",
       "      <td>0.970852</td>\n",
       "      <td>0.969827</td>\n",
       "      <td>00:22</td>\n",
       "    </tr>\n",
       "    <tr>\n",
       "      <td>5</td>\n",
       "      <td>0.076258</td>\n",
       "      <td>0.119914</td>\n",
       "      <td>0.970852</td>\n",
       "      <td>0.971086</td>\n",
       "      <td>00:24</td>\n",
       "    </tr>\n",
       "    <tr>\n",
       "      <td>6</td>\n",
       "      <td>0.060115</td>\n",
       "      <td>0.108603</td>\n",
       "      <td>0.973094</td>\n",
       "      <td>0.972529</td>\n",
       "      <td>00:23</td>\n",
       "    </tr>\n",
       "    <tr>\n",
       "      <td>7</td>\n",
       "      <td>0.037661</td>\n",
       "      <td>0.113315</td>\n",
       "      <td>0.977578</td>\n",
       "      <td>0.977161</td>\n",
       "      <td>00:24</td>\n",
       "    </tr>\n",
       "  </tbody>\n",
       "</table>"
      ],
      "text/plain": [
       "<IPython.core.display.HTML object>"
      ]
     },
     "metadata": {},
     "output_type": "display_data"
    }
   ],
   "source": [
    "learn.unfreeze()\n",
    "learn.fit_one_cycle(8, slice(1e-4,1e-2), moms=(0.8,0.7))"
   ]
  },
  {
   "cell_type": "code",
   "execution_count": 31,
   "metadata": {},
   "outputs": [],
   "source": [
    "learn.save(\"trained_ulmfit\")"
   ]
  },
  {
   "cell_type": "code",
   "execution_count": 32,
   "metadata": {},
   "outputs": [],
   "source": [
    "learn = text_classifier_learner(data_clas, AWD_LSTM, drop_mult=0.7)"
   ]
  },
  {
   "cell_type": "code",
   "execution_count": 33,
   "metadata": {},
   "outputs": [
    {
     "data": {
      "text/plain": [
       "RNNLearner(data=TextClasDataBunch;\n",
       "\n",
       "Train: LabelList (1779 items)\n",
       "x: TextList\n",
       "xxbos gadget growth fuels eco concerns technology firms and gadget lovers are being urged to think more about the environment when buying and disposing of the latest hi - tech products . at the consumer electronics show in las vegas earlier this month several hi - tech firms were recognised for their strategies to help the environment . ebay also announced the rethink project bringing together intel apple and ibm among others to promote recycling . the us consumer electronics market is set to grow by over 11 % in 2005 . but more awareness is needed about how and where old gadgets can be recycled as well as how to be more energy efficient said the us environmental protection agency ( epa ) . of particular growing concern is how much energy it takes to recharge portable devices one of the fastest growing markets in technology . the consumer electronics association ( cea ) has predicted that shipments of consumer technologies in 2005 will reach more than $ 125.73 billion ( nearly £ 68 billion ) . ebay s initiative pulls together major technology firms environment groups government agencies and ebay users to give information about what to do with old computers and where to send them . the online auction house thinks that its already - established community of loyal users could be influential . we really became aware of the e - waste issue and we saw that our 125 million users can be a powerful force for good ebay s david stern told the bbc news website . we saw the opportunity to meet the additional demand we have on the site for used computers and saw the opportunity too to good some good for the environment . but it is not just computers that cause a problem for the environment . teenagers get a new mobile every 11 months adults every 18 months and a 15 million handsets are replaced in total each year . yet only 15 % are actually recycled . this year a predicted two billion people worldwide will own a mobile according to a deloitte report . schemes in the us like ripmobile could help in targeting younger generations with recycling messages . the initiative which was also launched at ces rewards 10 to 28-year - olds for returning unused phones . this system allows for the transformation of a drawer full of unused mobile phones into anything from music to clothes to electronics or games said seth heine from ripmobile . one group of students collected 1 000 mobiles for recycling in just three months . mr heine told the bbc news website that what was important was to raise awareness amongst the young so that recycling becomes learned behaviour . europe is undoubtedly more advanced than the us in terms of recycling awareness and robust end of life programmes although there is a tide change happening in the rest of the world too . intel showcased some its motherboards and chips at ces which are entirely lead free . there is more and more awareness on the consumer side but the whole industry is moving towards being lead free intel s allen wilson told the bbc news website . there is still low - level awareness right now but it is on the rise - the highest level of awareness is in europe . a european union ( eu ) directive weee ( waste electronic and electrical equipment ) comes into effect in august . it puts the responsibility on electrical manufacturers to recycle items that are returned to them . but developments are also being made to design better technologies which are more energy efficient and which do not contain harmful substances . elements like chromium lead and cadmium - common in consumer electronics goods - will be prohibited in all products in the eu by 2006 . but it is not just about recycling either . the predicted huge growth in the gadget market means the amount of energy used to power them up is on the rise too . the biggest culprit according to the epa is the innocuous power adaptor nicknamed energy vampires . they provide vital juice for billions of mobile phones pdas ( personal digital assistants ) digital cameras camcorders and digital music players . although there is a focus on developing efficient and improved circuits in the devices themselves the technologies inside rechargers are still outdated and so eat up more energy than is needed to power a gadget . on 1 january new efficiency standards for external power supplies came into effect as part of the european commission code of conduct . but at ces the epa also unveiled new guidelines for its latest energy star initiative which targets external power adapters . these map out the framework for developing better adaptors that can be labelled with an energy star logo meaning they are about 35 % more efficient . the initiative is a global effort and more manufacturers adaptors are being brought on board . most are made in china . about two billion are shipped global every year and about three billion are in use in the us alone . the epa is already working with several companies which make more than 22 % of power supplies on the market . we are increasingly finding companies that not only want to provide neat hi - tech devices but also bundle with it a hi - tech efficient power supply the epa s andrew fanara said . initiatives like this are critical ; if power adaptors continue to be made and used as they are now consumer electronics and other small appliances will be responsible for more than 40 % of electricity used in us homes said the epa .,xxbos lee to create new film superhero comic book veteran stan lee is to team up with producer robert evans to create a movie featuring a new superhero . xxunk will focus on a character who has to face problems in everyday life as well as using his special powers to save the world . paramount pictures the studio behind the film have revealed few details about the project but say it has the potential to xxunk a series of films . lee is best known for his work on spider - man and the incredible hulk . he is collaborating on the script with screenwriter peter xxunk who penned the recent comic book adaptation hellboy . we believe it to be truly a whole new franchise said gill champion president and chief executive of lee s pow ! entertainment . in this world where people are looking for something different stan s idea was to create a concept not seen before to become an xxunk franchise for paramount . many of lee s other creations including x - men and daredevil have been turned into films in the past five years . however the spider - man series has been the biggest box office hit with the 2002 original and its 2004 sequel taking almost $ 1.6bn ( £ 857 m ) worldwide . a third spider - man film is scheduled for release in 2007 . another marvel comics adaptation the fantastic four will be released in cinemas this summer .,xxbos playstation 3 processor unveiled the cell processor which will drive sony s playstation 3 will run 10-times faster than current pc chips its designers have said . sony ibm and toshiba who have been working on the cell processor for three years unveiled the chip on monday . it is being designed for use in graphics workstations the new playstation console and has been described as a supercomputer on a chip . the chip will run at speeds of greater than 4 ghz the firms said . by comparison rival chip maker intel s fastest processor runs at 3.8 ghz . details of the chip were released at the international solid state circuits conference in san francisco . the new processor is set to ignite a fresh battle between intel and the cell consortium over which processor sits at the centre of digital products . the playstation 3 is expected in 2006 while toshiba plans to incorporate it into high - end televisions next year . ibm has said it will sell a workstation with the chip starting later this year . cell is comprised of several computing engines or cores . a core based on ibm s power architecture controls eight synergistic processing centres . in all they can simultaneously carry out 10 instruction sequences compared with two for current intel chips . later this year intel and advanced micro devices plan to release their own multicore chips which also increase the number of instructions that can be executed at once . the cell s specifications suggest the playstation 3 will offer a significant boost in graphics capabilities but analysts cautioned that not all the features in a product announcement will find their way into systems . any new technology like this has two components said steve kleynhans an analyst with meta group . he said : it has the vision of what it could be because you need the big vision to sell it . then there s the reality of how it s really going to be used which generally is several levels down the chain from there . while the playstation 3 is likely to be the first mass - market product to use cell the chip s designers have said the flexible architecture means that it would be useful for a wide range of applications from servers to mobile phones . initial devices are unlikely to be any smaller than a games console however because the first version of the cell will run hot enough to need a cooling fan . and while marketing speak describes the chip as a supercomputer - it remains significantly slower than the slowest computer on the list of the world s top 500 supercomputers . ibm said cell was os neutral and would support multiple operating systems simultaneously but designers would not confirm if microsoft s windows was among those tested with the chip . if cell is to challenge intel s range of chips in the marketplace it will need to find itself inside pcs which predominantly run using windows .,xxbos two nigerian banks set to merge nigerian banks united bank of africa and standard trust bank have agreed plans to merge and create the biggest bank in west africa . the deal is also in line with a 2004 directive from the nigerian central bank that called for more consolidation in the nation s crowded banking sector . the merger was announced in a statement on standard trust s website on tuesday but no financial details were revealed . united bank is the third biggest in nigeria in terms of number of branches . standard trust is smaller but more profitable . the boards of united bank and standard trust at separate meetings yesterday approved arrangements to merge both institutions standard trust said . standard trust is 100 % nigerian - owned but united bank has some foreign investors including new york - based global depository receipts ( 32.8 % ) and banca nazionale del lavoro and monte del paschi di siena both from italy who each have a 2.4 % stake .,xxbos mirza shocks kuznetsova sania mirza continued her remarkable rise with victory over us open champion svetlana kuznetsova at the dubai championships on tuesday . the 18-year - old indian who is already a huge star in her home country won 6 - 4 6 - 2 in front of a delirious crowd . it was mirza s sixth straight victory following her first wta tournament win in hyderabad last month . earlier daniela hantuchova built on her improving form with a 7 - 6 6 - 2 win over sixth seed alicia molik . mirza needed attention to an ankle injury after the second game against kuznetsova . she quickly slipped 4 - 0 down but staged a dramatic comeback that thrilled the large indian contingent in the crowd . i really didn t expect that after my ankle turn said mirza . i played a great match and i think ( the crowd ) did it again . i knew that i had to play an all - round game and that s what happened . i did everything well but i wasn t missing the ball - i don t know how that happened . mirza plays silvia farina elia or jelena jankovic next . hantuchova has risen from 31 in the world at the turn of the year to number 22 having reached the quarter - finals and semi - finals at her last two events . it was such a tough first - round match and i am glad to come through said hantuchova . she was serving so well . i just decided to hang in there and keep fighting . the slovakian will meet elena likhovtseva in the second round after the russian struggled past tunisian wild card selima sfar 2 - 6 6 - 2 7 - 6 . likhovtseva needed nine match points before seeing off sfar who got a point penalty for swearing in the third set . seventh seed nathalie dechy and elena bovina were among other first - round winners on tuesday .\n",
       "y: CategoryList\n",
       "tech,entertainment,tech,business,sport\n",
       "Path: /home/rubensvectomobile_gmail_com;\n",
       "\n",
       "Valid: LabelList (446 items)\n",
       "x: TextList\n",
       "xxbos last chance warning for voters people in england scotland and wales must have registered by 1700 gmt to be able to vote in the general election if it is held as expected on 5 may . those who filled in forms last autumn should already be on the register - but those who have moved house or were on holiday may have been left off . there will also be elections for local councils and mayors in parts of england on 5 may . the deadline for voters to register in northern ireland expired on thursday . completed registration forms can be handed into local authorities throughout the day on friday and some will accept them by fax . as well as for english county councils polls for unitary authorities at bristol isle of wight and stockton - on - tees and mayors at doncaster hartlepool north tyneside and stoke - on - trent are also scheduled for 5 may . last week preston city council reported that more than 14 000 of its voters were not registered . its electoral roll fell by 17.5 % in a year - the biggest dip in the uk . an electoral commission spokeswoman said : political decisions are made on your behalf every day but only by using your right to vote at an election can you really have a say on the issues you care about . if you want your voice to be heard on 5 may you will need to have registered by friday 11 march . council tax payers are not eligible to vote without registration officials have stressed .,xxbos muslim police stops more likely uk muslims should accept that people of islamic appearance are more likely to be stopped and searched by police a home office minister has said . hazel blears said innocent muslims would be targeted because of the search for islamic extremists . qualifications for religious leaders to enter the uk could also be made tougher she told a commons inquiry . her comments have been described as irresponsible and outrageous by the islamic human rights commission ( ihrc ) . the threat is most likely to come from those people associated with an extreme form of islam or who are falsely hiding behind islam the salford mp told the commons home affairs committee . it means that some of our counter - terrorism powers will be disproportionately experienced by the muslim community . it was a reality that should be recognised she said . if a threat is from a particular place then our action is going to be targeted at that area she added . on ministers of religions such as imams she said faith groups would be asked what other qualifications and skills such as civic knowledge and ability to engage the community should be demanded . last year ministers introduced a requirement that ministers should speak english to a certain level . ihrc chairman massoud shadjareh accused ms blears of playing an islamophobia card in the run - up to a general election . she is demonising and alienating our community he said . it is a legitimisation for a backlash and for racists to have an onslaught on our community . this sort of comment is just music to the ears of racists . later the prime minister s official spokesman urged people to put ms blears comments into context . the minister had been saying she understood there was a perception that stop and search was aimed at one community but that was not what was happening the spokesman said . what is happening is that those powers are aimed at those who are suspected of carrying out or planning certain activity who happen to come from one community . it is not aimed at a particular community it is not police policy to aim these powers at a particular community he added . statistics showed that of the 17 people found guilty of terrorist acts in the uk since the 11 september attacks only four of the 12 whose ethnic backgrounds were known were muslim he added figures published last week showed that people from ethnic minorities were increasingly likely to be targeted by police stop and search tactics . figures showed that for 2003 / 2004 asians were 1.9 times more likely to be stopped and searched compared with 1.7 times more likely in the previous year . separate figures on police searches in england and wales carried out under the terrorism act 2000 showed that ethnic minorities were more likely to be targeted . muslim groups have repeatedly claimed that their communities are being victimised under terror laws . in 2003 / 2004 12.5 % searches under the laws were on asian people even though they make up 4.7 % of the population . last july the police were accused of islamophobia by muslim groups after stop and search figures showed the numbers of asians targeted had risen by 300 % since the introduction of anti - terror laws .,xxbos chinese wine tempts italy s illva italy s illva saronno has agreed to buy 33 % of changyu the largest wine maker in china . changyu said in a statement to the shenzhen stock exchange that illva will pay 481.42 m yuan ( $ 58.16 m ; £ 30.7 m ) once the government approves the deal . the italian liqueur maker will acquire the shares from the yantai state asset management bureau . chinese wine sales are growing the us agriculture department said with wine sales in 2003 up 25 % at 61.1bn yuan . china is encouraging state - owned companies to sell shares to foreign investors . anheuser - busch heineken and scottish & newcastle have all invested in the chinese beer industry in the last two years and now illva saronno is betting on the chinese wine market . yantai state asset management bureau - a government agency in the north - eastern city of yantai - owns 55 % of changyu . the state agency will also sell 10 % of its stake in changyu to another overseas company although it didn t say who . the remaining 12 % will be retained by the yantai city government . the consumption of wine in china is still low at just 0.22 litres per capita said the us agriculture department . this compares with 59 litres in france 12 litres in the us and three litres in japan .,xxbos radcliffe eyes hard line on drugs paula radcliffe has called for all athletes found guilty on drugs charges to be treated as criminals . the marathon world record holder believes more needs to be done to rid athletics of the suspicions and innuendoes which greet any fast time . doping in sport is a criminal offence and should be treated as such the 30-year - old told the sunday times . it not only cheats other athletes but also cheats promoters sponsors and the general public . radcliffe s comments come at a time when several american sports stars are under suspicion of steroid use . being caught in possession of a performance - enhancing drugs should carry a penalty she added . the current system does not detect many of the substances being abused by athletes . this means that often athletes do not know if they are competing on a level playing field if their hard work and sacrifice is being trumped by an easier scientific route . often when an athlete puts in a good performance they are subjected to suspicions and innuendoes instead of praise . having been on the receiving end of accusations like this i can testify as to how much this hurts .,xxbos lewsey puzzle over disallowed try england s josh lewsey has claimed he was denied a late try in his side s six nations loss to ireland . the wasps wing insisted he grounded the ball when he was bundled over the line and said referee jonathan kaplan had made a wrong decision . i m positive i touched the ball down over the line lewsey told bbc sport . it certainly wasn t a turnover . i was driven over and i put the ball on the ground . the whistle went and i let go of the ball . lewsey added : one of the irish players scooped it back after the whistle and to our surprise the referee then gave a turnover . as far as i m concerned that incident and mark cueto s effort from charlie hodgson s cross - field kick that led to what looked like a good try were the two key elements in the game . cueto was also puzzled as to why his try had been disallowed by kaplan . i don t think i could have been offside for without a doubt i was behind the ball said the sale player . the move was a planned technique it was not off the cuff . we rehearse it time and time again . i wouldn t say we were robbed some decisions go with you and some go against you . today they went against us and that s tough at international level .\n",
       "y: CategoryList\n",
       "politics,politics,business,sport,sport\n",
       "Path: /home/rubensvectomobile_gmail_com;\n",
       "\n",
       "Test: None, model=SequentialRNN(\n",
       "  (0): MultiBatchEncoder(\n",
       "    (module): AWD_LSTM(\n",
       "      (encoder): Embedding(27744, 400, padding_idx=1)\n",
       "      (encoder_dp): EmbeddingDropout(\n",
       "        (emb): Embedding(27744, 400, padding_idx=1)\n",
       "      )\n",
       "      (rnns): ModuleList(\n",
       "        (0): WeightDropout(\n",
       "          (module): LSTM(400, 1152, batch_first=True)\n",
       "        )\n",
       "        (1): WeightDropout(\n",
       "          (module): LSTM(1152, 1152, batch_first=True)\n",
       "        )\n",
       "        (2): WeightDropout(\n",
       "          (module): LSTM(1152, 400, batch_first=True)\n",
       "        )\n",
       "      )\n",
       "      (input_dp): RNNDropout()\n",
       "      (hidden_dps): ModuleList(\n",
       "        (0): RNNDropout()\n",
       "        (1): RNNDropout()\n",
       "        (2): RNNDropout()\n",
       "      )\n",
       "    )\n",
       "  )\n",
       "  (1): PoolingLinearClassifier(\n",
       "    (layers): Sequential(\n",
       "      (0): BatchNorm1d(1200, eps=1e-05, momentum=0.1, affine=True, track_running_stats=True)\n",
       "      (1): Dropout(p=0.27999999999999997, inplace=False)\n",
       "      (2): Linear(in_features=1200, out_features=50, bias=True)\n",
       "      (3): ReLU(inplace=True)\n",
       "      (4): BatchNorm1d(50, eps=1e-05, momentum=0.1, affine=True, track_running_stats=True)\n",
       "      (5): Dropout(p=0.1, inplace=False)\n",
       "      (6): Linear(in_features=50, out_features=5, bias=True)\n",
       "    )\n",
       "  )\n",
       "), opt_func=functools.partial(<class 'torch.optim.adam.Adam'>, betas=(0.9, 0.99)), loss_func=FlattenedLoss of CrossEntropyLoss(), metrics=[<function accuracy at 0x7fb506151200>], true_wd=True, bn_wd=True, wd=0.01, train_bn=True, path=PosixPath('/home/rubensvectomobile_gmail_com'), model_dir='models', callback_fns=[functools.partial(<class 'fastai.basic_train.Recorder'>, add_time=True, silent=False)], callbacks=[RNNTrainer\n",
       "learn: ...\n",
       "alpha: 2.0\n",
       "beta: 1.0], layer_groups=[Sequential(\n",
       "  (0): Embedding(27744, 400, padding_idx=1)\n",
       "  (1): EmbeddingDropout(\n",
       "    (emb): Embedding(27744, 400, padding_idx=1)\n",
       "  )\n",
       "), Sequential(\n",
       "  (0): WeightDropout(\n",
       "    (module): LSTM(400, 1152, batch_first=True)\n",
       "  )\n",
       "  (1): RNNDropout()\n",
       "), Sequential(\n",
       "  (0): WeightDropout(\n",
       "    (module): LSTM(1152, 1152, batch_first=True)\n",
       "  )\n",
       "  (1): RNNDropout()\n",
       "), Sequential(\n",
       "  (0): WeightDropout(\n",
       "    (module): LSTM(1152, 400, batch_first=True)\n",
       "  )\n",
       "  (1): RNNDropout()\n",
       "), Sequential(\n",
       "  (0): PoolingLinearClassifier(\n",
       "    (layers): Sequential(\n",
       "      (0): BatchNorm1d(1200, eps=1e-05, momentum=0.1, affine=True, track_running_stats=True)\n",
       "      (1): Dropout(p=0.27999999999999997, inplace=False)\n",
       "      (2): Linear(in_features=1200, out_features=50, bias=True)\n",
       "      (3): ReLU(inplace=True)\n",
       "      (4): BatchNorm1d(50, eps=1e-05, momentum=0.1, affine=True, track_running_stats=True)\n",
       "      (5): Dropout(p=0.1, inplace=False)\n",
       "      (6): Linear(in_features=50, out_features=5, bias=True)\n",
       "    )\n",
       "  )\n",
       ")], add_time=True, silent=False)"
      ]
     },
     "execution_count": 33,
     "metadata": {},
     "output_type": "execute_result"
    }
   ],
   "source": [
    "learn.load('trained_ulmfit')"
   ]
  },
  {
   "cell_type": "code",
   "execution_count": 34,
   "metadata": {},
   "outputs": [
    {
     "data": {
      "text/html": [
       "<div>\n",
       "<style scoped>\n",
       "    .dataframe tbody tr th:only-of-type {\n",
       "        vertical-align: middle;\n",
       "    }\n",
       "\n",
       "    .dataframe tbody tr th {\n",
       "        vertical-align: top;\n",
       "    }\n",
       "\n",
       "    .dataframe thead th {\n",
       "        text-align: right;\n",
       "    }\n",
       "</style>\n",
       "<table border=\"1\" class=\"dataframe\">\n",
       "  <thead>\n",
       "    <tr style=\"text-align: right;\">\n",
       "      <th>col_0</th>\n",
       "      <th>0</th>\n",
       "      <th>1</th>\n",
       "      <th>2</th>\n",
       "      <th>3</th>\n",
       "      <th>4</th>\n",
       "    </tr>\n",
       "    <tr>\n",
       "      <th>row_0</th>\n",
       "      <th></th>\n",
       "      <th></th>\n",
       "      <th></th>\n",
       "      <th></th>\n",
       "      <th></th>\n",
       "    </tr>\n",
       "  </thead>\n",
       "  <tbody>\n",
       "    <tr>\n",
       "      <td>0</td>\n",
       "      <td>101</td>\n",
       "      <td>1</td>\n",
       "      <td>0</td>\n",
       "      <td>1</td>\n",
       "      <td>1</td>\n",
       "    </tr>\n",
       "    <tr>\n",
       "      <td>1</td>\n",
       "      <td>1</td>\n",
       "      <td>73</td>\n",
       "      <td>0</td>\n",
       "      <td>0</td>\n",
       "      <td>1</td>\n",
       "    </tr>\n",
       "    <tr>\n",
       "      <td>2</td>\n",
       "      <td>2</td>\n",
       "      <td>0</td>\n",
       "      <td>93</td>\n",
       "      <td>0</td>\n",
       "      <td>1</td>\n",
       "    </tr>\n",
       "    <tr>\n",
       "      <td>3</td>\n",
       "      <td>0</td>\n",
       "      <td>0</td>\n",
       "      <td>0</td>\n",
       "      <td>95</td>\n",
       "      <td>1</td>\n",
       "    </tr>\n",
       "    <tr>\n",
       "      <td>4</td>\n",
       "      <td>0</td>\n",
       "      <td>0</td>\n",
       "      <td>1</td>\n",
       "      <td>0</td>\n",
       "      <td>74</td>\n",
       "    </tr>\n",
       "  </tbody>\n",
       "</table>\n",
       "</div>"
      ],
      "text/plain": [
       "col_0    0   1   2   3   4\n",
       "row_0                     \n",
       "0      101   1   0   1   1\n",
       "1        1  73   0   0   1\n",
       "2        2   0  93   0   1\n",
       "3        0   0   0  95   1\n",
       "4        0   0   1   0  74"
      ]
     },
     "execution_count": 34,
     "metadata": {},
     "output_type": "execute_result"
    }
   ],
   "source": [
    "preds, targets = learn.get_preds()\n",
    "predictions = np.argmax(preds, axis=1)\n",
    "pd.crosstab(predictions, targets)"
   ]
  },
  {
   "cell_type": "code",
   "execution_count": null,
   "metadata": {},
   "outputs": [],
   "source": []
  }
 ],
 "metadata": {
  "kernelspec": {
   "display_name": "Python 3",
   "language": "python",
   "name": "python3"
  },
  "language_info": {
   "codemirror_mode": {
    "name": "ipython",
    "version": 3
   },
   "file_extension": ".py",
   "mimetype": "text/x-python",
   "name": "python",
   "nbconvert_exporter": "python",
   "pygments_lexer": "ipython3",
   "version": "3.7.4"
  }
 },
 "nbformat": 4,
 "nbformat_minor": 2
}
